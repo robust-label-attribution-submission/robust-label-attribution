{
 "cells": [
  {
   "cell_type": "code",
   "execution_count": 1,
   "metadata": {
    "execution": {
     "iopub.execute_input": "2020-11-29T23:30:50.149035Z",
     "iopub.status.busy": "2020-11-29T23:30:50.148639Z",
     "iopub.status.idle": "2020-11-29T23:30:50.150082Z",
     "shell.execute_reply": "2020-11-29T23:30:50.150398Z"
    },
    "pycharm": {
     "name": "#%%\n"
    }
   },
   "outputs": [],
   "source": [
    "# On Google colab, we must ensure scipy is up to date\n",
    "#!pip install -U scipy==1.5.3\n",
    "#!pip install scikit-learn==0.23.2\n",
    "#!pip install pandas==1.1.4\n",
    "#!pip install matplotlib==3.3.3"
   ]
  },
  {
   "cell_type": "code",
   "execution_count": 2,
   "metadata": {
    "collapsed": false,
    "execution": {
     "iopub.execute_input": "2020-11-29T23:30:50.153701Z",
     "iopub.status.busy": "2020-11-29T23:30:50.153322Z",
     "iopub.status.idle": "2020-11-29T23:30:51.030366Z",
     "shell.execute_reply": "2020-11-29T23:30:51.030738Z"
    },
    "jupyter": {
     "outputs_hidden": false
    },
    "pycharm": {
     "name": "#%%\n"
    }
   },
   "outputs": [],
   "source": [
    "import os\n",
    "import urllib.request\n",
    "import zipfile\n",
    "from functools import lru_cache\n",
    "\n",
    "import pandas as pd\n",
    "import numpy as np\n",
    "import scipy\n",
    "import scipy.sparse\n",
    "\n",
    "import sklearn\n",
    "from sklearn.linear_model import LogisticRegression\n",
    "from sklearn.feature_extraction import FeatureHasher\n",
    "import joblib\n",
    "\n",
    "import matplotlib.pyplot as plt\n",
    "from matplotlib.ticker import PercentFormatter\n",
    "\n",
    "plt.style.use('ggplot')"
   ]
  },
  {
   "cell_type": "markdown",
   "metadata": {},
   "source": [
    "## Download Data"
   ]
  },
  {
   "cell_type": "code",
   "execution_count": 3,
   "metadata": {
    "collapsed": false,
    "execution": {
     "iopub.execute_input": "2020-11-29T23:30:51.034213Z",
     "iopub.status.busy": "2020-11-29T23:30:51.033820Z",
     "iopub.status.idle": "2020-11-29T23:30:51.035074Z",
     "shell.execute_reply": "2020-11-29T23:30:51.035384Z"
    },
    "jupyter": {
     "outputs_hidden": false
    },
    "pycharm": {
     "name": "#%%\n"
    }
   },
   "outputs": [],
   "source": [
    "def download_dataset():\n",
    "  urllib.request.urlretrieve(\n",
    "    \"https://go.criteois.com/criteo-research-attribution-dataset.zip\", \n",
    "    \"criteo_attribution_dataset.zip\"\n",
    "  )\n",
    "  \n",
    "  with zipfile.ZipFile(\"criteo_attribution_dataset.zip\", \"r\") as zip_ref:\n",
    "    zip_ref.extractall(\"criteo_attribution_dataset\")"
   ]
  },
  {
   "cell_type": "code",
   "execution_count": 4,
   "metadata": {
    "collapsed": false,
    "execution": {
     "iopub.execute_input": "2020-11-29T23:30:51.037965Z",
     "iopub.status.busy": "2020-11-29T23:30:51.037569Z",
     "iopub.status.idle": "2020-11-29T23:30:51.039170Z",
     "shell.execute_reply": "2020-11-29T23:30:51.039478Z"
    },
    "jupyter": {
     "outputs_hidden": false
    },
    "pycharm": {
     "name": "#%%\n"
    }
   },
   "outputs": [],
   "source": [
    "dataset_path = 'criteo_attribution_dataset/criteo_attribution_dataset.tsv.gz'\n",
    "\n",
    "if not os.path.exists(dataset_path):\n",
    "  download_dataset()"
   ]
  },
  {
   "cell_type": "markdown",
   "metadata": {},
   "source": [
    "## Preprocessing"
   ]
  },
  {
   "cell_type": "markdown",
   "metadata": {},
   "source": [
    "### Take a data sample\n",
    "In order to run the code on Google colab or a personal computer, we might want to sub-sample a part of the user timelines."
   ]
  },
  {
   "cell_type": "code",
   "execution_count": 5,
   "metadata": {
    "execution": {
     "iopub.execute_input": "2020-11-29T23:30:51.041722Z",
     "iopub.status.busy": "2020-11-29T23:30:51.041350Z",
     "iopub.status.idle": "2020-11-29T23:30:51.042769Z",
     "shell.execute_reply": "2020-11-29T23:30:51.043082Z"
    }
   },
   "outputs": [],
   "source": [
    "DEBUG_SAMPLE = 1.0"
   ]
  },
  {
   "cell_type": "code",
   "execution_count": 6,
   "metadata": {
    "collapsed": false,
    "execution": {
     "iopub.execute_input": "2020-11-29T23:30:51.046682Z",
     "iopub.status.busy": "2020-11-29T23:30:51.046294Z",
     "iopub.status.idle": "2020-11-29T23:31:48.445951Z",
     "shell.execute_reply": "2020-11-29T23:31:48.446282Z"
    },
    "jupyter": {
     "outputs_hidden": false
    },
    "pycharm": {
     "name": "#%%\n"
    }
   },
   "outputs": [
    {
     "data": {
      "text/html": [
       "<div>\n",
       "<style scoped>\n",
       "    .dataframe tbody tr th:only-of-type {\n",
       "        vertical-align: middle;\n",
       "    }\n",
       "\n",
       "    .dataframe tbody tr th {\n",
       "        vertical-align: top;\n",
       "    }\n",
       "\n",
       "    .dataframe thead th {\n",
       "        text-align: right;\n",
       "    }\n",
       "</style>\n",
       "<table border=\"1\" class=\"dataframe\">\n",
       "  <thead>\n",
       "    <tr style=\"text-align: right;\">\n",
       "      <th></th>\n",
       "      <th>timestamp</th>\n",
       "      <th>uid</th>\n",
       "      <th>campaign</th>\n",
       "      <th>conversion</th>\n",
       "      <th>conversion_timestamp</th>\n",
       "      <th>conversion_id</th>\n",
       "      <th>attribution</th>\n",
       "      <th>click</th>\n",
       "      <th>click_pos</th>\n",
       "      <th>click_nb</th>\n",
       "      <th>...</th>\n",
       "      <th>time_since_last_click</th>\n",
       "      <th>cat1</th>\n",
       "      <th>cat2</th>\n",
       "      <th>cat3</th>\n",
       "      <th>cat4</th>\n",
       "      <th>cat5</th>\n",
       "      <th>cat6</th>\n",
       "      <th>cat7</th>\n",
       "      <th>cat8</th>\n",
       "      <th>cat9</th>\n",
       "    </tr>\n",
       "  </thead>\n",
       "  <tbody>\n",
       "    <tr>\n",
       "      <th>0</th>\n",
       "      <td>0</td>\n",
       "      <td>20073966</td>\n",
       "      <td>22589171</td>\n",
       "      <td>0</td>\n",
       "      <td>-1</td>\n",
       "      <td>-1</td>\n",
       "      <td>0</td>\n",
       "      <td>0</td>\n",
       "      <td>-1</td>\n",
       "      <td>-1</td>\n",
       "      <td>...</td>\n",
       "      <td>-1</td>\n",
       "      <td>5824233</td>\n",
       "      <td>9312274</td>\n",
       "      <td>3490278</td>\n",
       "      <td>29196072</td>\n",
       "      <td>11409686</td>\n",
       "      <td>1973606</td>\n",
       "      <td>25162884</td>\n",
       "      <td>29196072</td>\n",
       "      <td>29196072</td>\n",
       "    </tr>\n",
       "    <tr>\n",
       "      <th>1</th>\n",
       "      <td>2</td>\n",
       "      <td>24607497</td>\n",
       "      <td>884761</td>\n",
       "      <td>0</td>\n",
       "      <td>-1</td>\n",
       "      <td>-1</td>\n",
       "      <td>0</td>\n",
       "      <td>0</td>\n",
       "      <td>-1</td>\n",
       "      <td>-1</td>\n",
       "      <td>...</td>\n",
       "      <td>423858</td>\n",
       "      <td>30763035</td>\n",
       "      <td>9312274</td>\n",
       "      <td>14584482</td>\n",
       "      <td>29196072</td>\n",
       "      <td>11409686</td>\n",
       "      <td>1973606</td>\n",
       "      <td>22644417</td>\n",
       "      <td>9312274</td>\n",
       "      <td>21091111</td>\n",
       "    </tr>\n",
       "    <tr>\n",
       "      <th>2</th>\n",
       "      <td>2</td>\n",
       "      <td>28474333</td>\n",
       "      <td>18975823</td>\n",
       "      <td>0</td>\n",
       "      <td>-1</td>\n",
       "      <td>-1</td>\n",
       "      <td>0</td>\n",
       "      <td>0</td>\n",
       "      <td>-1</td>\n",
       "      <td>-1</td>\n",
       "      <td>...</td>\n",
       "      <td>8879</td>\n",
       "      <td>138937</td>\n",
       "      <td>9312274</td>\n",
       "      <td>10769841</td>\n",
       "      <td>29196072</td>\n",
       "      <td>5824237</td>\n",
       "      <td>138937</td>\n",
       "      <td>1795451</td>\n",
       "      <td>29196072</td>\n",
       "      <td>15351056</td>\n",
       "    </tr>\n",
       "    <tr>\n",
       "      <th>3</th>\n",
       "      <td>3</td>\n",
       "      <td>7306395</td>\n",
       "      <td>29427842</td>\n",
       "      <td>1</td>\n",
       "      <td>1449193</td>\n",
       "      <td>3063962</td>\n",
       "      <td>0</td>\n",
       "      <td>1</td>\n",
       "      <td>0</td>\n",
       "      <td>7</td>\n",
       "      <td>...</td>\n",
       "      <td>-1</td>\n",
       "      <td>28928366</td>\n",
       "      <td>26597095</td>\n",
       "      <td>12435261</td>\n",
       "      <td>23549932</td>\n",
       "      <td>5824237</td>\n",
       "      <td>1973606</td>\n",
       "      <td>9180723</td>\n",
       "      <td>29841067</td>\n",
       "      <td>29196072</td>\n",
       "    </tr>\n",
       "    <tr>\n",
       "      <th>4</th>\n",
       "      <td>3</td>\n",
       "      <td>25357769</td>\n",
       "      <td>13365547</td>\n",
       "      <td>0</td>\n",
       "      <td>-1</td>\n",
       "      <td>-1</td>\n",
       "      <td>0</td>\n",
       "      <td>0</td>\n",
       "      <td>-1</td>\n",
       "      <td>-1</td>\n",
       "      <td>...</td>\n",
       "      <td>-1</td>\n",
       "      <td>138937</td>\n",
       "      <td>26597094</td>\n",
       "      <td>31616034</td>\n",
       "      <td>29196072</td>\n",
       "      <td>11409684</td>\n",
       "      <td>26597096</td>\n",
       "      <td>4480345</td>\n",
       "      <td>29196072</td>\n",
       "      <td>29196072</td>\n",
       "    </tr>\n",
       "    <tr>\n",
       "      <th>...</th>\n",
       "      <td>...</td>\n",
       "      <td>...</td>\n",
       "      <td>...</td>\n",
       "      <td>...</td>\n",
       "      <td>...</td>\n",
       "      <td>...</td>\n",
       "      <td>...</td>\n",
       "      <td>...</td>\n",
       "      <td>...</td>\n",
       "      <td>...</td>\n",
       "      <td>...</td>\n",
       "      <td>...</td>\n",
       "      <td>...</td>\n",
       "      <td>...</td>\n",
       "      <td>...</td>\n",
       "      <td>...</td>\n",
       "      <td>...</td>\n",
       "      <td>...</td>\n",
       "      <td>...</td>\n",
       "      <td>...</td>\n",
       "      <td>...</td>\n",
       "    </tr>\n",
       "    <tr>\n",
       "      <th>16468022</th>\n",
       "      <td>2671199</td>\n",
       "      <td>5767906</td>\n",
       "      <td>4869923</td>\n",
       "      <td>0</td>\n",
       "      <td>-1</td>\n",
       "      <td>-1</td>\n",
       "      <td>0</td>\n",
       "      <td>1</td>\n",
       "      <td>-1</td>\n",
       "      <td>-1</td>\n",
       "      <td>...</td>\n",
       "      <td>482560</td>\n",
       "      <td>30763035</td>\n",
       "      <td>26597095</td>\n",
       "      <td>13113052</td>\n",
       "      <td>29196072</td>\n",
       "      <td>5824236</td>\n",
       "      <td>30763035</td>\n",
       "      <td>18391143</td>\n",
       "      <td>29196072</td>\n",
       "      <td>8661623</td>\n",
       "    </tr>\n",
       "    <tr>\n",
       "      <th>16468023</th>\n",
       "      <td>2671199</td>\n",
       "      <td>6852682</td>\n",
       "      <td>10002432</td>\n",
       "      <td>0</td>\n",
       "      <td>-1</td>\n",
       "      <td>-1</td>\n",
       "      <td>0</td>\n",
       "      <td>0</td>\n",
       "      <td>-1</td>\n",
       "      <td>-1</td>\n",
       "      <td>...</td>\n",
       "      <td>971748</td>\n",
       "      <td>25259032</td>\n",
       "      <td>9312274</td>\n",
       "      <td>10979162</td>\n",
       "      <td>29196072</td>\n",
       "      <td>32440044</td>\n",
       "      <td>29196072</td>\n",
       "      <td>27259439</td>\n",
       "      <td>29196072</td>\n",
       "      <td>8661620</td>\n",
       "    </tr>\n",
       "    <tr>\n",
       "      <th>16468024</th>\n",
       "      <td>2671199</td>\n",
       "      <td>16638720</td>\n",
       "      <td>7061828</td>\n",
       "      <td>0</td>\n",
       "      <td>-1</td>\n",
       "      <td>-1</td>\n",
       "      <td>0</td>\n",
       "      <td>0</td>\n",
       "      <td>-1</td>\n",
       "      <td>-1</td>\n",
       "      <td>...</td>\n",
       "      <td>268431</td>\n",
       "      <td>30763035</td>\n",
       "      <td>5824235</td>\n",
       "      <td>29542751</td>\n",
       "      <td>29196072</td>\n",
       "      <td>5824237</td>\n",
       "      <td>29196072</td>\n",
       "      <td>3696777</td>\n",
       "      <td>29196072</td>\n",
       "      <td>21091111</td>\n",
       "    </tr>\n",
       "    <tr>\n",
       "      <th>16468025</th>\n",
       "      <td>2671199</td>\n",
       "      <td>3032300</td>\n",
       "      <td>5061834</td>\n",
       "      <td>0</td>\n",
       "      <td>-1</td>\n",
       "      <td>-1</td>\n",
       "      <td>0</td>\n",
       "      <td>1</td>\n",
       "      <td>-1</td>\n",
       "      <td>-1</td>\n",
       "      <td>...</td>\n",
       "      <td>-1</td>\n",
       "      <td>1973606</td>\n",
       "      <td>26597096</td>\n",
       "      <td>28944164</td>\n",
       "      <td>29196072</td>\n",
       "      <td>26611392</td>\n",
       "      <td>1973606</td>\n",
       "      <td>5642940</td>\n",
       "      <td>14911188</td>\n",
       "      <td>29196072</td>\n",
       "    </tr>\n",
       "    <tr>\n",
       "      <th>16468026</th>\n",
       "      <td>2671199</td>\n",
       "      <td>23160808</td>\n",
       "      <td>15398570</td>\n",
       "      <td>0</td>\n",
       "      <td>-1</td>\n",
       "      <td>-1</td>\n",
       "      <td>0</td>\n",
       "      <td>0</td>\n",
       "      <td>-1</td>\n",
       "      <td>-1</td>\n",
       "      <td>...</td>\n",
       "      <td>294889</td>\n",
       "      <td>30763035</td>\n",
       "      <td>28928366</td>\n",
       "      <td>26487682</td>\n",
       "      <td>29196072</td>\n",
       "      <td>32440044</td>\n",
       "      <td>28928366</td>\n",
       "      <td>27168706</td>\n",
       "      <td>29196072</td>\n",
       "      <td>21091111</td>\n",
       "    </tr>\n",
       "  </tbody>\n",
       "</table>\n",
       "<p>16468027 rows × 22 columns</p>\n",
       "</div>"
      ],
      "text/plain": [
       "          timestamp       uid  campaign  conversion  conversion_timestamp  \\\n",
       "0                 0  20073966  22589171           0                    -1   \n",
       "1                 2  24607497    884761           0                    -1   \n",
       "2                 2  28474333  18975823           0                    -1   \n",
       "3                 3   7306395  29427842           1               1449193   \n",
       "4                 3  25357769  13365547           0                    -1   \n",
       "...             ...       ...       ...         ...                   ...   \n",
       "16468022    2671199   5767906   4869923           0                    -1   \n",
       "16468023    2671199   6852682  10002432           0                    -1   \n",
       "16468024    2671199  16638720   7061828           0                    -1   \n",
       "16468025    2671199   3032300   5061834           0                    -1   \n",
       "16468026    2671199  23160808  15398570           0                    -1   \n",
       "\n",
       "          conversion_id  attribution  click  click_pos  click_nb  ...  \\\n",
       "0                    -1            0      0         -1        -1  ...   \n",
       "1                    -1            0      0         -1        -1  ...   \n",
       "2                    -1            0      0         -1        -1  ...   \n",
       "3               3063962            0      1          0         7  ...   \n",
       "4                    -1            0      0         -1        -1  ...   \n",
       "...                 ...          ...    ...        ...       ...  ...   \n",
       "16468022             -1            0      1         -1        -1  ...   \n",
       "16468023             -1            0      0         -1        -1  ...   \n",
       "16468024             -1            0      0         -1        -1  ...   \n",
       "16468025             -1            0      1         -1        -1  ...   \n",
       "16468026             -1            0      0         -1        -1  ...   \n",
       "\n",
       "          time_since_last_click      cat1      cat2      cat3      cat4  \\\n",
       "0                            -1   5824233   9312274   3490278  29196072   \n",
       "1                        423858  30763035   9312274  14584482  29196072   \n",
       "2                          8879    138937   9312274  10769841  29196072   \n",
       "3                            -1  28928366  26597095  12435261  23549932   \n",
       "4                            -1    138937  26597094  31616034  29196072   \n",
       "...                         ...       ...       ...       ...       ...   \n",
       "16468022                 482560  30763035  26597095  13113052  29196072   \n",
       "16468023                 971748  25259032   9312274  10979162  29196072   \n",
       "16468024                 268431  30763035   5824235  29542751  29196072   \n",
       "16468025                     -1   1973606  26597096  28944164  29196072   \n",
       "16468026                 294889  30763035  28928366  26487682  29196072   \n",
       "\n",
       "              cat5      cat6      cat7      cat8      cat9  \n",
       "0         11409686   1973606  25162884  29196072  29196072  \n",
       "1         11409686   1973606  22644417   9312274  21091111  \n",
       "2          5824237    138937   1795451  29196072  15351056  \n",
       "3          5824237   1973606   9180723  29841067  29196072  \n",
       "4         11409684  26597096   4480345  29196072  29196072  \n",
       "...            ...       ...       ...       ...       ...  \n",
       "16468022   5824236  30763035  18391143  29196072   8661623  \n",
       "16468023  32440044  29196072  27259439  29196072   8661620  \n",
       "16468024   5824237  29196072   3696777  29196072  21091111  \n",
       "16468025  26611392   1973606   5642940  14911188  29196072  \n",
       "16468026  32440044  28928366  27168706  29196072  21091111  \n",
       "\n",
       "[16468027 rows x 22 columns]"
      ]
     },
     "execution_count": 1,
     "metadata": {},
     "output_type": "execute_result"
    }
   ],
   "source": [
    "def get_sampled_dataset(debug_sample=1.0):\n",
    "  df = pd.read_csv(dataset_path, sep='\\t', compression=\"gzip\")\n",
    "  uid_and_salt = df['uid'].astype(str) + 'hash_salt_for_sampling'\n",
    "  hashed_uid_and_salt = pd.util.hash_pandas_object(uid_and_salt, index=False)\n",
    "  random_column_based_on_uid = hashed_uid_and_salt / np.iinfo(np.uint64).max\n",
    "  return df[random_column_based_on_uid < debug_sample]\n",
    "\n",
    "sampled_dataset = get_sampled_dataset(DEBUG_SAMPLE)\n",
    "sampled_dataset"
   ]
  },
  {
   "cell_type": "markdown",
   "metadata": {},
   "source": [
    "### Clean timelines\n",
    "Split timelines having multiple conversions and remove timelines that have missing clicks"
   ]
  },
  {
   "cell_type": "code",
   "execution_count": 7,
   "metadata": {
    "collapsed": false,
    "execution": {
     "iopub.execute_input": "2020-11-29T23:31:48.453087Z",
     "iopub.status.busy": "2020-11-29T23:31:48.452684Z",
     "iopub.status.idle": "2020-11-29T23:31:48.454001Z",
     "shell.execute_reply": "2020-11-29T23:31:48.454314Z"
    },
    "jupyter": {
     "outputs_hidden": false
    },
    "pycharm": {
     "name": "#%%\n"
    }
   },
   "outputs": [],
   "source": [
    "def split_timelines(df):\n",
    "  \"\"\"Some timelines have several conversions and conversion times.\n",
    "  For the sake of simplicity, we split the timelines as soon as a conversion occurs.\n",
    "  \"\"\"\n",
    "  conversion_timestamps = df.groupby('timeline_id').agg({'conversion_timestamp': lambda x: sorted(list(set(x)))})\n",
    "  conversion_timestamps.rename(columns={'conversion_timestamp': 'conversion_timestamps'}, inplace=True)\n",
    "\n",
    "  def get_next_conversion_timestamp(data):\n",
    "    next_conversion_index = np.searchsorted(data['conversion_timestamps'], data['timestamp'])\n",
    "    if next_conversion_index == len(data['conversion_timestamps']):\n",
    "      return 'nnc' # no next conversion\n",
    "    else:\n",
    "      return str(data['conversion_timestamps'][next_conversion_index])\n",
    "\n",
    "  df_with_ct = df.merge(conversion_timestamps, on='timeline_id', how='outer', validate=\"many_to_one\")\n",
    "\n",
    "  matched_displays_mask = df_with_ct['conversion_timestamp'] > 0\n",
    "  df_with_ct['next_conversion_timestamp'] = np.where(\n",
    "      matched_displays_mask,\n",
    "      df_with_ct['conversion_timestamp'].astype(str),\n",
    "      df_with_ct.apply(get_next_conversion_timestamp, axis=1)\n",
    "  )\n",
    "  \n",
    "  df_with_ct.rename(columns={'timeline_id': 'timeline_id_no_split'}, inplace=True)\n",
    "  df_with_ct['timeline_id'] = df_with_ct['timeline_id_no_split'].astype(str) + '_' + df_with_ct['next_conversion_timestamp']\n",
    "  \n",
    "  original_column_order = list(df.columns)\n",
    "  return df_with_ct[original_column_order]"
   ]
  },
  {
   "cell_type": "code",
   "execution_count": 8,
   "metadata": {
    "collapsed": false,
    "execution": {
     "iopub.execute_input": "2020-11-29T23:31:48.462234Z",
     "iopub.status.busy": "2020-11-29T23:31:48.461028Z",
     "iopub.status.idle": "2020-11-29T23:31:48.474939Z",
     "shell.execute_reply": "2020-11-29T23:31:48.475244Z"
    },
    "jupyter": {
     "outputs_hidden": false
    },
    "pycharm": {
     "name": "#%%\n"
    }
   },
   "outputs": [],
   "source": [
    "debug = True\n",
    "if debug:\n",
    "  test_df = pd.DataFrame([\n",
    "    {'timeline_id': 1, 'timestamp': 1, 'conversion_timestamp': -1},\n",
    "    {'timeline_id': 1, 'timestamp': 2, 'conversion_timestamp': -1},\n",
    "    {'timeline_id': 1, 'timestamp': 3, 'conversion_timestamp': 6},\n",
    "    {'timeline_id': 1, 'timestamp': 4, 'conversion_timestamp': 6},\n",
    "    {'timeline_id': 1, 'timestamp': 7, 'conversion_timestamp': -1},\n",
    "    {'timeline_id': 1, 'timestamp': 8, 'conversion_timestamp': 10},\n",
    "    {'timeline_id': 1, 'timestamp': 9, 'conversion_timestamp': 10},\n",
    "    {'timeline_id': 1, 'timestamp': 11, 'conversion_timestamp': -1},\n",
    "    {'timeline_id': 1, 'timestamp': 12, 'conversion_timestamp': -1},\n",
    "    {'timeline_id': 2, 'timestamp': 1, 'conversion_timestamp': -1},\n",
    "    {'timeline_id': 2, 'timestamp': 2, 'conversion_timestamp': -1},\n",
    "    # Edge case : sometimes (rarely, the conversion is not mapped to the next one)\n",
    "    {'timeline_id': 3, 'timestamp': 1, 'conversion_timestamp': -1},\n",
    "    {'timeline_id': 3, 'timestamp': 2, 'conversion_timestamp': 7},\n",
    "    {'timeline_id': 3, 'timestamp': 3, 'conversion_timestamp': 4},\n",
    "    {'timeline_id': 3, 'timestamp': 5, 'conversion_timestamp': 7},\n",
    "    {'timeline_id': 3, 'timestamp': 6, 'conversion_timestamp': 7},\n",
    "  ])\n",
    "  split_test_df = pd.DataFrame([\n",
    "    {'timeline_id': '1_6', 'timestamp': 1, 'conversion_timestamp': -1},\n",
    "    {'timeline_id': '1_6', 'timestamp': 2, 'conversion_timestamp': -1},\n",
    "    {'timeline_id': '1_6', 'timestamp': 3, 'conversion_timestamp': 6},\n",
    "    {'timeline_id': '1_6', 'timestamp': 4, 'conversion_timestamp': 6},\n",
    "    {'timeline_id': '1_10', 'timestamp': 7, 'conversion_timestamp': -1},\n",
    "    {'timeline_id': '1_10', 'timestamp': 8, 'conversion_timestamp': 10},\n",
    "    {'timeline_id': '1_10', 'timestamp': 9, 'conversion_timestamp': 10},\n",
    "    {'timeline_id': '1_nnc', 'timestamp': 11, 'conversion_timestamp': -1},\n",
    "    {'timeline_id': '1_nnc', 'timestamp': 12, 'conversion_timestamp': -1},\n",
    "    {'timeline_id': '2_nnc', 'timestamp': 1, 'conversion_timestamp': -1},\n",
    "    {'timeline_id': '2_nnc', 'timestamp': 2, 'conversion_timestamp': -1},\n",
    "    # Edge case\n",
    "    {'timeline_id': '3_4', 'timestamp': 1, 'conversion_timestamp': -1},\n",
    "    {'timeline_id': '3_7', 'timestamp': 2, 'conversion_timestamp': 7},\n",
    "    {'timeline_id': '3_4', 'timestamp': 3, 'conversion_timestamp': 4},\n",
    "    {'timeline_id': '3_7', 'timestamp': 5, 'conversion_timestamp': 7},\n",
    "    {'timeline_id': '3_7', 'timestamp': 6, 'conversion_timestamp': 7},\n",
    "  ])\n",
    "  assert split_test_df.equals(split_timelines(test_df))"
   ]
  },
  {
   "cell_type": "code",
   "execution_count": 9,
   "metadata": {
    "collapsed": false,
    "execution": {
     "iopub.execute_input": "2020-11-29T23:31:48.480076Z",
     "iopub.status.busy": "2020-11-29T23:31:48.479679Z",
     "iopub.status.idle": "2020-11-29T23:31:48.480971Z",
     "shell.execute_reply": "2020-11-29T23:31:48.481280Z"
    },
    "jupyter": {
     "outputs_hidden": false
    },
    "pycharm": {
     "name": "#%%\n"
    }
   },
   "outputs": [],
   "source": [
    "def remove_uncomplete_timelines(df):\n",
    "  \"\"\"Since the data set consists of 30 consecutive days, it contains some timelines that\n",
    "  had started before and hence are uncomplete in our training example.\n",
    "  For the sake of simplicity, we remove them.\n",
    "  \"\"\"\n",
    "  # First assert that for all timelines, if a display is associated to a conversion (click_nb > 0)\n",
    "  # then, all click displays share the same click number\n",
    "  click_nb_check_df = df[df['click_nb'] > 0].groupby('timeline_id').agg({'click_nb': lambda x: len(set(x))})\n",
    "  assert np.all(click_nb_check_df['click_nb'] == 1)\n",
    "\n",
    "  click_nb_in_timelines = df.groupby('timeline_id').agg({'click': 'sum'})\n",
    "  click_nb_in_timelines.rename(columns={'click': 'click_nb_in_timeline'}, inplace=True)\n",
    "\n",
    "  df_with_click_nb = df.merge(click_nb_in_timelines, on='timeline_id', how='outer', validate=\"many_to_one\")\n",
    "\n",
    "  # We keep if there is either no click or if all clicks are available\n",
    "  keep_display = (df_with_click_nb['click_nb'] == -1) | (df_with_click_nb['click_nb_in_timeline'] == df_with_click_nb['click_nb'])\n",
    "  filtered_df = df_with_click_nb[keep_display].reset_index()\n",
    "\n",
    "  original_column_order = df.columns\n",
    "  return filtered_df[original_column_order]"
   ]
  },
  {
   "cell_type": "code",
   "execution_count": 10,
   "metadata": {
    "collapsed": false,
    "execution": {
     "iopub.execute_input": "2020-11-29T23:31:48.486706Z",
     "iopub.status.busy": "2020-11-29T23:31:48.486318Z",
     "iopub.status.idle": "2020-11-29T23:31:48.495766Z",
     "shell.execute_reply": "2020-11-29T23:31:48.496069Z"
    },
    "jupyter": {
     "outputs_hidden": false
    },
    "pycharm": {
     "name": "#%%\n"
    }
   },
   "outputs": [],
   "source": [
    "debug = True\n",
    "if debug:\n",
    "  test_df = pd.DataFrame([\n",
    "    {'timeline_id': 1, 'click': 0, 'click_nb': -1},\n",
    "    {'timeline_id': 1, 'click': 0, 'click_nb': -1},\n",
    "    {'timeline_id': 1, 'click': 0, 'click_nb': -1},\n",
    "    {'timeline_id': 2, 'click': 0, 'click_nb': -1},\n",
    "    {'timeline_id': 2, 'click': 1, 'click_nb': 2},\n",
    "    {'timeline_id': 2, 'click': 1, 'click_nb': 2},\n",
    "    {'timeline_id': 3, 'click': 1, 'click_nb': 3},\n",
    "    {'timeline_id': 3, 'click': 1, 'click_nb': 3},\n",
    "    {'timeline_id': 3, 'click': 0, 'click_nb': -1},\n",
    "  ])\n",
    "  removed_uncomplete_test_df = pd.DataFrame([\n",
    "    {'timeline_id': 1, 'click': 0, 'click_nb': -1},\n",
    "    {'timeline_id': 1, 'click': 0, 'click_nb': -1},\n",
    "    {'timeline_id': 1, 'click': 0, 'click_nb': -1},\n",
    "    {'timeline_id': 2, 'click': 0, 'click_nb': -1},\n",
    "    {'timeline_id': 2, 'click': 1, 'click_nb': 2},\n",
    "    {'timeline_id': 2, 'click': 1, 'click_nb': 2},\n",
    "    {'timeline_id': 3, 'click': 0, 'click_nb': -1},\n",
    "  ])\n",
    "  assert removed_uncomplete_test_df.equals(remove_uncomplete_timelines(test_df))"
   ]
  },
  {
   "cell_type": "code",
   "execution_count": 11,
   "metadata": {
    "collapsed": false,
    "execution": {
     "iopub.execute_input": "2020-11-29T23:31:48.500897Z",
     "iopub.status.busy": "2020-11-29T23:31:48.500504Z",
     "iopub.status.idle": "2020-11-29T23:31:48.501773Z",
     "shell.execute_reply": "2020-11-29T23:31:48.502086Z"
    },
    "jupyter": {
     "outputs_hidden": false
    },
    "pycharm": {
     "name": "#%%\n"
    }
   },
   "outputs": [],
   "source": [
    "def get_nb_clicks(df):\n",
    "  \"\"\"Get the total number of clicks made by this timeline_id so far\n",
    "  \"\"\"\n",
    "  click_timestamps = df[df['click'] == 1].groupby('timeline_id').agg({'timestamp': lambda x: sorted(list(set(x)))})\n",
    "  click_timestamps.rename(columns={'timestamp': 'click_timestamps'}, inplace=True)\n",
    "\n",
    "  def get_nb_clicks_for_timeline_id(row):\n",
    "    if isinstance(row['click_timestamps'], list) and len(row['click_timestamps']) > 0:\n",
    "      return np.searchsorted(row['click_timestamps'], row['timestamp'])\n",
    "    else:\n",
    "      return 0\n",
    "\n",
    "  df_with_ct = df.merge(click_timestamps, on='timeline_id', how='outer', validate=\"many_to_one\")\n",
    "  df_with_ct['nb_clicks'] = df_with_ct.apply(get_nb_clicks_for_timeline_id, axis=1)\n",
    "  \n",
    "  original_column_order = list(df.columns) + ['nb_clicks']\n",
    "  return df_with_ct[original_column_order]"
   ]
  },
  {
   "cell_type": "code",
   "execution_count": 12,
   "metadata": {
    "collapsed": false,
    "execution": {
     "iopub.execute_input": "2020-11-29T23:31:48.508777Z",
     "iopub.status.busy": "2020-11-29T23:31:48.508377Z",
     "iopub.status.idle": "2020-11-29T23:31:48.516860Z",
     "shell.execute_reply": "2020-11-29T23:31:48.517161Z"
    },
    "jupyter": {
     "outputs_hidden": false
    },
    "pycharm": {
     "name": "#%%\n"
    }
   },
   "outputs": [],
   "source": [
    "debug = True\n",
    "if debug:\n",
    "  test_df = pd.DataFrame([\n",
    "    {'timeline_id': 1, 'timestamp': 1, 'click': 0},\n",
    "    {'timeline_id': 1, 'timestamp': 2, 'click': 0},\n",
    "    {'timeline_id': 1, 'timestamp': 3, 'click': 1},\n",
    "    {'timeline_id': 1, 'timestamp': 4, 'click': 1},\n",
    "    {'timeline_id': 1, 'timestamp': 7, 'click': 0},\n",
    "    {'timeline_id': 1, 'timestamp': 8, 'click': 1},\n",
    "    {'timeline_id': 1, 'timestamp': 9, 'click': 1},\n",
    "    {'timeline_id': 1, 'timestamp': 11, 'click': 0},\n",
    "    {'timeline_id': 1, 'timestamp': 12, 'click': 0},\n",
    "    {'timeline_id': 2, 'timestamp': 1, 'click': 0},\n",
    "    {'timeline_id': 2, 'timestamp': 2, 'click': 0},\n",
    "  ])\n",
    "  nb_clicks_test_df = pd.DataFrame([\n",
    "    {'timeline_id': 1, 'timestamp': 1, 'click': 0, \"nb_clicks\": 0},\n",
    "    {'timeline_id': 1, 'timestamp': 2, 'click': 0, \"nb_clicks\": 0},\n",
    "    {'timeline_id': 1, 'timestamp': 3, 'click': 1, \"nb_clicks\": 0},\n",
    "    {'timeline_id': 1, 'timestamp': 4, 'click': 1, \"nb_clicks\": 1},\n",
    "    {'timeline_id': 1, 'timestamp': 7, 'click': 0, \"nb_clicks\": 2},\n",
    "    {'timeline_id': 1, 'timestamp': 8, 'click': 1, \"nb_clicks\": 2},\n",
    "    {'timeline_id': 1, 'timestamp': 9, 'click': 1, \"nb_clicks\": 3},\n",
    "    {'timeline_id': 1, 'timestamp': 11, 'click': 0, \"nb_clicks\": 4},\n",
    "    {'timeline_id': 1, 'timestamp': 12, 'click': 0, \"nb_clicks\": 4},\n",
    "    {'timeline_id': 2, 'timestamp': 1, 'click': 0, \"nb_clicks\": 0},\n",
    "    {'timeline_id': 2, 'timestamp': 2, 'click': 0, \"nb_clicks\": 0},\n",
    "  ])\n",
    "  assert nb_clicks_test_df.equals(get_nb_clicks(test_df))"
   ]
  },
  {
   "cell_type": "markdown",
   "metadata": {},
   "source": [
    "### Enrich dataset"
   ]
  },
  {
   "cell_type": "code",
   "execution_count": 13,
   "metadata": {
    "collapsed": false,
    "execution": {
     "iopub.execute_input": "2020-11-29T23:31:48.524267Z",
     "iopub.status.busy": "2020-11-29T23:31:48.518679Z",
     "iopub.status.idle": "2020-11-29T23:31:48.525440Z",
     "shell.execute_reply": "2020-11-29T23:31:48.525754Z"
    },
    "jupyter": {
     "outputs_hidden": false
    },
    "pycharm": {
     "name": "#%%\n"
    }
   },
   "outputs": [],
   "source": [
    "CACHE_DIRECTORY = 'cache'\n",
    "\n",
    "\n",
    "def get_preprocessed_dataset(original_df, use_cache=True):\n",
    "  \"\"\"Apply all preprocessing on the original data set\n",
    "  \"\"\"\n",
    "  # For an easier experimentation, we cache the preprocessed data\n",
    "  df_identifier = '_'.join(map(str, original_df.shape))\n",
    "  cache_path = os.path.join(CACHE_DIRECTORY, df_identifier, 'preprocess.pkl')\n",
    "  if os.path.exists(cache_path) and use_cache:\n",
    "    df = pd.read_pickle(cache_path)\n",
    "\n",
    "  else:\n",
    "    df = original_df.copy()\n",
    "\n",
    "    # Consider each campaign independently\n",
    "    df['timeline_id'] = df['uid'].astype(str) + '_' + df['campaign'].astype(str)\n",
    "\n",
    "    # Apply previously introduced preprocessings\n",
    "    df = split_timelines(df)\n",
    "    df = remove_uncomplete_timelines(df)\n",
    "    df = get_nb_clicks(df)\n",
    "\n",
    "    # Add extra row variables\n",
    "    df['day'] = np.floor(df['timestamp'] / 86400.).astype(int)\n",
    "\n",
    "    # We bucketize time since last click such that all buckets have a sufficient amount of displays\n",
    "    df['time_since_last_click_bucketized'] = np.where(\n",
    "      df['time_since_last_click'] == -1, -1,\n",
    "      np.where(\n",
    "        df['time_since_last_click'] < 20 * 3600,\n",
    "        np.log(1 + df['time_since_last_click'] / 60).astype(int),\n",
    "        7 + (df['time_since_last_click'] / (2 * 24 * 3600)).astype(int)\n",
    "      )\n",
    "    )\n",
    "\n",
    "    # Add last click attribution\n",
    "    df['last_click'] = df['attribution'] * (df['click_pos'] == df['click_nb'] - 1).astype(int)\n",
    "\n",
    "    # Precompute the total reward per timeline_id (called V in the paper)\n",
    "    total_timeline_id_reward = df.groupby('timeline_id').agg({'last_click': 'sum'})\n",
    "    total_timeline_id_reward.columns = ['total_timeline_id_rewards']\n",
    "    df = df.merge(total_timeline_id_reward, on='timeline_id', how='outer', validate=\"many_to_one\")\n",
    "\n",
    "    # Save preprocessed data to cache folder\n",
    "    os.makedirs(os.path.dirname(cache_path), exist_ok=True)\n",
    "    df.to_pickle(cache_path)\n",
    "  \n",
    "  # assert there is at most one conversion per timeline\n",
    "  assert set(df['total_timeline_id_rewards'].unique()) == {0, 1}\n",
    "\n",
    "  return df"
   ]
  },
  {
   "cell_type": "code",
   "execution_count": 14,
   "metadata": {
    "execution": {
     "iopub.execute_input": "2020-11-29T23:31:48.528386Z",
     "iopub.status.busy": "2020-11-29T23:31:48.527994Z",
     "iopub.status.idle": "2020-11-29T23:31:53.142874Z",
     "shell.execute_reply": "2020-11-29T23:31:53.143236Z"
    }
   },
   "outputs": [],
   "source": [
    "preprocessed_dataset = get_preprocessed_dataset(sampled_dataset, use_cache=True)"
   ]
  },
  {
   "cell_type": "markdown",
   "metadata": {},
   "source": [
    "### Dataset statistics"
   ]
  },
  {
   "cell_type": "code",
   "execution_count": 15,
   "metadata": {
    "collapsed": false,
    "execution": {
     "iopub.execute_input": "2020-11-29T23:31:53.148340Z",
     "iopub.status.busy": "2020-11-29T23:31:53.147954Z",
     "iopub.status.idle": "2020-11-29T23:32:56.108376Z",
     "shell.execute_reply": "2020-11-29T23:32:56.108019Z"
    },
    "jupyter": {
     "outputs_hidden": false
    },
    "pycharm": {
     "name": "#%%\n"
    }
   },
   "outputs": [
    {
     "name": "stdout",
     "output_type": "stream",
     "text": [
      "The dataset consists in 16468027 displays from 6142256 timelines among which 179803 converted\n",
      "The dataset consists in 16256483 displays from 8015218 timelines among which 195800 converted\n"
     ]
    }
   ],
   "source": [
    "def print_stats(df, timeline_id):\n",
    "  df = df.copy()\n",
    "  n_displays = len(df)\n",
    "  n_users = len(df[timeline_id].unique())\n",
    "  n_conversions = sum(df.groupby(timeline_id).agg({'attribution': 'sum'}).values.ravel() > 0)\n",
    "  print(f'The dataset consists in {n_displays} displays from {n_users} timelines among which {n_conversions} converted')\n",
    "\n",
    "print_stats(sampled_dataset, 'uid')\n",
    "print_stats(preprocessed_dataset, 'timeline_id')"
   ]
  },
  {
   "cell_type": "code",
   "execution_count": 16,
   "metadata": {
    "collapsed": false,
    "execution": {
     "iopub.execute_input": "2020-11-29T23:32:56.112137Z",
     "iopub.status.busy": "2020-11-29T23:32:56.111749Z",
     "iopub.status.idle": "2020-11-29T23:32:56.553042Z",
     "shell.execute_reply": "2020-11-29T23:32:56.553375Z"
    },
    "jupyter": {
     "outputs_hidden": false
    },
    "pycharm": {
     "name": "#%%\n"
    }
   },
   "outputs": [
    {
     "data": {
      "image/png": "[encoded data removed]",
      "text/plain": [
       "<Figure size 432x288 with 1 Axes>"
      ]
     },
     "metadata": {},
     "output_type": "display_data"
    }
   ],
   "source": [
    "def plot_n_displays_per_day(df):\n",
    "  df.day.hist(bins=len(df.day.unique()))\n",
    "  plt.ylabel('Number of display per day')\n",
    "  plt.xlabel('Day')\n",
    "\n",
    "plot_n_displays_per_day(preprocessed_dataset)"
   ]
  },
  {
   "cell_type": "code",
   "execution_count": 17,
   "metadata": {
    "collapsed": false,
    "execution": {
     "iopub.execute_input": "2020-11-29T23:32:56.616357Z",
     "iopub.status.busy": "2020-11-29T23:32:56.615888Z",
     "iopub.status.idle": "2020-11-29T23:33:29.966356Z",
     "shell.execute_reply": "2020-11-29T23:33:29.966683Z"
    },
    "jupyter": {
     "outputs_hidden": false
    },
    "pycharm": {
     "name": "#%%\n"
    }
   },
   "outputs": [
    {
     "data": {
      "image/png": "[encoded data removed]",
      "text/plain": [
       "<Figure size 1296x288 with 2 Axes>"
      ]
     },
     "metadata": {},
     "output_type": "display_data"
    }
   ],
   "source": [
    "def plot_n_clicks_per_user(df):\n",
    "  groupped_by_user = df.groupby('timeline_id').agg({'click': ['count', 'sum'], 'attribution': ['sum']})\n",
    "  converted_users = groupped_by_user[groupped_by_user['attribution']['sum'] > 0]\n",
    "\n",
    "  fig, axes = plt.subplots(1, 2, figsize=(18, 4), sharex=True, sharey=True)\n",
    "  max_clicks = 10\n",
    "  groupped_by_user['click']['sum'][groupped_by_user['click']['sum'] < max_clicks].hist(density=True, bins=max_clicks, ax=axes[0])\n",
    "  axes[0].set_title('Number of clicks made by all users')\n",
    "  axes[0].set_xlabel('Number of clicks')\n",
    "  axes[0].set_ylabel('Proportion of users')\n",
    "\n",
    "  converted_users['click']['sum'][converted_users['click']['sum'] < max_clicks].hist(density=True, bins=max_clicks, ax=axes[1])\n",
    "  axes[1].set_title('Number of clicks made by converted users')\n",
    "  axes[1].set_xlabel('Number of clicks')\n",
    "  axes[1].yaxis.set_tick_params(reset=True)\n",
    "  axes[1].set_ylabel('Proportion of users')\n",
    "\n",
    "plot_n_clicks_per_user(preprocessed_dataset)"
   ]
  },
  {
   "cell_type": "markdown",
   "metadata": {},
   "source": [
    "### Featuring"
   ]
  },
  {
   "cell_type": "code",
   "execution_count": 18,
   "metadata": {
    "collapsed": false,
    "execution": {
     "iopub.execute_input": "2020-11-29T23:33:29.974213Z",
     "iopub.status.busy": "2020-11-29T23:33:29.973813Z",
     "iopub.status.idle": "2020-11-29T23:33:29.975138Z",
     "shell.execute_reply": "2020-11-29T23:33:29.975452Z"
    },
    "jupyter": {
     "outputs_hidden": false
    },
    "pycharm": {
     "name": "#%%\n"
    }
   },
   "outputs": [],
   "source": [
    "FEATURES = ['campaign', 'cat1', 'cat2', 'cat3', 'cat4', 'cat5', 'cat6', 'cat7', 'cat8', 'cat9', 'time_since_last_click_bucketized', 'nb_clicks']\n",
    "\n",
    "def features_to_list_of_strings(row):\n",
    "  return [f'{feature}_{row[feature]}' for feature in row.index]\n",
    "\n",
    "\n",
    "def get_labels_and_features(preprocessed_dataset, hash_space=2**13, use_cache=True):\n",
    "  \"\"\"Get labels and features to run machine learning algorithms.\n",
    "  \"\"\"\n",
    "  LABELS_FILE = 'labels.npy'\n",
    "  FEATURES_FILE = 'features.npz'\n",
    "\n",
    "  dataset_identifier = '_'.join(map(str, preprocessed_dataset.shape))\n",
    "  label_features_identifier = f'{\"_\".join(FEATURES)}'\n",
    "  cache_path = os.path.join(CACHE_DIRECTORY, dataset_identifier, label_features_identifier, str(hash_space))\n",
    "  label_cache_path = os.path.join(cache_path, LABELS_FILE)\n",
    "  features_cache_path = os.path.join(cache_path, FEATURES_FILE)\n",
    "  \n",
    "  if use_cache and os.path.exists(label_cache_path) and os.path.exists(features_cache_path):\n",
    "    labels = np.load(label_cache_path)\n",
    "    features = scipy.sparse.load_npz(features_cache_path)\n",
    "\n",
    "  else:\n",
    "    labels = preprocessed_dataset['last_click'].astype(float).values\n",
    "    raw_features = preprocessed_dataset[FEATURES]\n",
    "\n",
    "    # The categorical features are hashed using the hashing trick\n",
    "    features_as_list_of_strings = raw_features.apply(features_to_list_of_strings, axis=1)\n",
    "    hasher = FeatureHasher(n_features=hash_space, input_type='string', alternate_sign=False)\n",
    "    features = hasher.fit_transform(features_as_list_of_strings)\n",
    "    os.makedirs(cache_path, exist_ok=True)\n",
    "    np.save(label_cache_path, labels)\n",
    "    scipy.sparse.save_npz(features_cache_path, features)\n",
    "\n",
    "  return labels, features"
   ]
  },
  {
   "cell_type": "code",
   "execution_count": 19,
   "metadata": {
    "collapsed": false,
    "execution": {
     "iopub.execute_input": "2020-11-29T23:33:29.979673Z",
     "iopub.status.busy": "2020-11-29T23:33:29.979286Z",
     "iopub.status.idle": "2020-11-29T23:33:29.980617Z",
     "shell.execute_reply": "2020-11-29T23:33:29.980940Z"
    },
    "jupyter": {
     "outputs_hidden": false
    },
    "pycharm": {
     "name": "#%%\n"
    }
   },
   "outputs": [],
   "source": [
    "def split_train_test_mask(preprocessed_dataset, ratio=0.8):\n",
    "  \"\"\"We split the dataset into train and test parts by timeline_id\n",
    "  (learn on a part of the population and test on the other part)\n",
    "  \"\"\"\n",
    "  timeline_id_and_salt = preprocessed_dataset['timeline_id'].astype(str) + 'hash_salt_for_train_test_split'\n",
    "  hashed_timeline_id_and_salt = pd.util.hash_pandas_object(timeline_id_and_salt, index=False)\n",
    "  random_column_based_on_timeline_id = hashed_timeline_id_and_salt / np.iinfo(np.uint64).max\n",
    "  return random_column_based_on_timeline_id < ratio\n",
    "\n",
    "\n",
    "def get_train_test_labels_and_features(preprocessed_dataset, is_training_mask, hash_space=2**13, use_cache=True):\n",
    "  labels, features = get_labels_and_features(preprocessed_dataset, hash_space=hash_space, use_cache=use_cache)\n",
    "\n",
    "  return (\n",
    "    labels[is_training_mask], features[is_training_mask],\n",
    "    labels[~is_training_mask], features[~is_training_mask],\n",
    "  )"
   ]
  },
  {
   "cell_type": "markdown",
   "metadata": {},
   "source": [
    "## Learning"
   ]
  },
  {
   "cell_type": "code",
   "execution_count": 20,
   "metadata": {
    "collapsed": false,
    "execution": {
     "iopub.execute_input": "2020-11-29T23:33:29.983457Z",
     "iopub.status.busy": "2020-11-29T23:33:29.983084Z",
     "iopub.status.idle": "2020-11-29T23:33:29.984415Z",
     "shell.execute_reply": "2020-11-29T23:33:29.984723Z"
    },
    "jupyter": {
     "outputs_hidden": false
    },
    "pycharm": {
     "name": "#%%\n"
    }
   },
   "outputs": [],
   "source": [
    "# General config for the machine learning models\n",
    "C_REGULARIZATION = 1\n",
    "HASH_SPACE = int(2**13)\n",
    "MAX_ITER = 1000"
   ]
  },
  {
   "cell_type": "markdown",
   "metadata": {},
   "source": [
    "### Last touch attribution"
   ]
  },
  {
   "cell_type": "code",
   "execution_count": 21,
   "metadata": {
    "collapsed": false,
    "execution": {
     "iopub.execute_input": "2020-11-29T23:33:29.987486Z",
     "iopub.status.busy": "2020-11-29T23:33:29.987113Z",
     "iopub.status.idle": "2020-11-29T23:33:29.988422Z",
     "shell.execute_reply": "2020-11-29T23:33:29.988732Z"
    },
    "jupyter": {
     "outputs_hidden": false
    },
    "pycharm": {
     "name": "#%%\n"
    }
   },
   "outputs": [],
   "source": [
    "def train_last_touch_model(labels, features, c_regularization):\n",
    "  last_touch_model = LogisticRegression(max_iter=MAX_ITER, C=c_regularization)\n",
    "  last_touch_model.fit(features, labels)\n",
    "  return last_touch_model"
   ]
  },
  {
   "cell_type": "markdown",
   "metadata": {},
   "source": [
    "### Core Attribution"
   ]
  },
  {
   "cell_type": "markdown",
   "metadata": {},
   "source": [
    "#### Logistic regression with continuous labels"
   ]
  },
  {
   "cell_type": "markdown",
   "metadata": {},
   "source": [
    "We choose Logistic regression from scikit-learn as our ML algorithm. The logistic regression loss that we minimize is\n",
    "\n",
    "$$\n",
    "l(y, p) = \\mathbb{1}_{y = 1} \\log(p) + \\mathbb{1}_{y = 0} \\log(1 - p)\n",
    "$$\n",
    "\n",
    "However, our fixed-point algorithm will make appear continuous labels ($y$ is the result of the internal attribution $\\mu$) that cannot be fit with scikit-learn's logistic regression. Indeed, this logisitic regression can only take 0-1 labels as input.\n",
    "\n",
    "A basic extension of logistic regression to learn with a continuous label $y \\in [0, 1]$, consisits in minimizing the binomial loss that writes:\n",
    "\n",
    "$$\n",
    "l(y, p) = y \\log(p) + (1 - y) \\log(1 - p)\n",
    "$$\n",
    "\n",
    "In order to minimize this loss with a logistic regression optimizer, we generate a new dataset in which we duplicate the rows and assign them a weight : a \"positive\" row a label 1 and a weight $y$ and a \"negative\" row with a label 0 and a weight $1 - y$."
   ]
  },
  {
   "cell_type": "code",
   "execution_count": 22,
   "metadata": {
    "collapsed": false,
    "execution": {
     "iopub.execute_input": "2020-11-29T23:33:29.993596Z",
     "iopub.status.busy": "2020-11-29T23:33:29.993216Z",
     "iopub.status.idle": "2020-11-29T23:33:29.994959Z",
     "shell.execute_reply": "2020-11-29T23:33:29.994624Z"
    },
    "jupyter": {
     "outputs_hidden": false
    },
    "pycharm": {
     "name": "#%%\n"
    }
   },
   "outputs": [],
   "source": [
    "class CountinuousLogisticRegression(LogisticRegression):\n",
    "  \n",
    "  @staticmethod\n",
    "  def from_countinuous_to_weighted_binary_labels(labels, features):\n",
    "    \"\"\"Transforms a dataset with continuous labels into a bigger dataset with weighted \n",
    "    binary labels. See explanation above.\n",
    "    \"\"\"\n",
    "    weigths_positive = labels\n",
    "    weigths_negative = 1 - labels\n",
    "    label_positive = np.ones_like(labels)\n",
    "    label_negative = np.zeros_like(labels)\n",
    "\n",
    "    weights = np.hstack((weigths_positive, weigths_negative))\n",
    "    weighted_labels = np.hstack((label_positive, label_negative))\n",
    "    weighted_features = scipy.sparse.vstack((features, features))\n",
    "\n",
    "    mask = (weights > 0)\n",
    "    return weighted_labels[mask], weighted_features[mask], weights[mask]\n",
    "  \n",
    "  def fit(self, X, y):\n",
    "    # 1. Generate dataset, use continuous labels to weighted dataset trick\n",
    "    weighted_labels, weighted_features, weights = self.from_countinuous_to_weighted_binary_labels(y, X)\n",
    "\n",
    "    # 2. Train model\n",
    "    return LogisticRegression.fit(self, weighted_features, weighted_labels, sample_weight=weights)"
   ]
  },
  {
   "cell_type": "markdown",
   "metadata": {},
   "source": [
    "#### Fixed point iterations"
   ]
  },
  {
   "cell_type": "markdown",
   "metadata": {},
   "source": [
    "We are implementing the following fixed-point algorithm\n",
    "\n",
    "1. Generate dataset\n",
    "   $$ \\mathcal{D}^{(k + 1)} \\;\\; = \\;\\; \\big\\{\n",
    "   (x, y) = \\big((s_n)^j, \\mu^{(k)}(j, s_n) \\big) \\text{ for } n \\in [N] \\text{ and } j \\in [\\ell(s_n)] \n",
    "   \\big\\}$$\n",
    "  \n",
    "2. With a ML algorithm, train $\\nu^{(k + 1)}$ on $\\mathcal{D}^{(k + 1)}$ \\\\\n",
    "   $$ \\nu^{(k + 1)} \\;\\; = \\;\\; (s) \\mapsto \\mathbb{E}_{(x, y) \\in \\mathcal{D}^{(k + 1)}} \\big[ y\\; | \\; x=s \\big] $$\n",
    "\n",
    "3. Set $\\mu$ with fixed-point characterization \n",
    "   $$\\mu^{(k + 1)} \\;\\; = \\;\\; (i, s) \\mapsto \\frac{\\nu^{(k + 1)}(s^i)}{\\sum_{j = 1}^{\\ell(s)} \\nu^{(k + 1)}(s^j)} V(s)$$"
   ]
  },
  {
   "cell_type": "code",
   "execution_count": 23,
   "metadata": {
    "collapsed": false,
    "execution": {
     "iopub.execute_input": "2020-11-29T23:33:30.001337Z",
     "iopub.status.busy": "2020-11-29T23:33:30.000945Z",
     "iopub.status.idle": "2020-11-29T23:33:30.002296Z",
     "shell.execute_reply": "2020-11-29T23:33:30.002605Z"
    },
    "jupyter": {
     "outputs_hidden": false
    },
    "pycharm": {
     "name": "#%%\n"
    }
   },
   "outputs": [],
   "source": [
    "def run_one_iteration(labels, features, is_eligible, timeline_ids, total_timeline_id_reward, c_regularization):\n",
    "  \"\"\"Return the new labels obtained after one iteration of the core attribution\n",
    "  fixed point algorithm\n",
    "  \"\"\"\n",
    "  # In our dataset, we know in advance that many displays will not get any\n",
    "  # credit from the internal attribution. Either:\n",
    "  #   1. because they have not been clicked\n",
    "  #   2. because no attributed sales were corresponding to this timeline_id.\n",
    "  # These displays remain attached with a zero label while the remaining ones\n",
    "  # will have a variable label computed with the fixed point iterations.\n",
    "  to_update_mask = (total_timeline_id_reward > 0) & is_eligible\n",
    "\n",
    "  labels_to_update, features_to_update = labels[to_update_mask], features[to_update_mask]\n",
    "  \n",
    "  # Step 2, compute valuations\n",
    "  model = CountinuousLogisticRegression(max_iter=MAX_ITER, C=c_regularization)\n",
    "  model.fit(features, labels)\n",
    "  \n",
    "  model_predictions = model.predict_proba(features_to_update)[:, 1]\n",
    "  scenario_valuation = model_predictions\n",
    "\n",
    "  predictions_per_display_to_update = pd.DataFrame({\n",
    "    'feature_index': np.arange(scenario_valuation.shape[0]), \n",
    "    'timeline_id': timeline_ids[to_update_mask],\n",
    "    'scenario_valuation': scenario_valuation,\n",
    "    'total_timeline_id_rewards': total_timeline_id_reward[to_update_mask],\n",
    "  })\n",
    "  \n",
    "  # Step 3, compute new labels proportionally to the display valuations\n",
    "  total_timeline_id_valuation = (\n",
    "    predictions_per_display_to_update\n",
    "    .groupby('timeline_id')\n",
    "    .agg(total_timeline_id_valuation=('scenario_valuation', 'sum'))\n",
    "    .reset_index()\n",
    "  )\n",
    "  \n",
    "  predictions_per_display_to_update = predictions_per_display_to_update.merge(\n",
    "    total_timeline_id_valuation, on='timeline_id', how='left')\n",
    "  \n",
    "  # merge shuffles the lines, we must reorder them by feature index\n",
    "  predictions_per_display_to_update.sort_values('feature_index', inplace=True)\n",
    "\n",
    "  # Use fixed point characterization to update the labels\n",
    "  updated_labels = (\n",
    "    predictions_per_display_to_update['scenario_valuation'] \n",
    "    / predictions_per_display_to_update['total_timeline_id_valuation'] \n",
    "    * predictions_per_display_to_update['total_timeline_id_rewards']\n",
    "  ).values\n",
    "\n",
    "  next_labels = labels\n",
    "  next_labels[to_update_mask] = updated_labels\n",
    "\n",
    "  # Ensure we have just spread the labels\n",
    "  np.testing.assert_almost_equal(sum(updated_labels), sum(labels))\n",
    "  np.testing.assert_almost_equal(sum(next_labels), sum(labels))\n",
    "\n",
    "  return model, next_labels"
   ]
  },
  {
   "cell_type": "code",
   "execution_count": 24,
   "metadata": {
    "collapsed": false,
    "execution": {
     "iopub.execute_input": "2020-11-29T23:33:30.007249Z",
     "iopub.status.busy": "2020-11-29T23:33:30.006867Z",
     "iopub.status.idle": "2020-11-29T23:33:30.008221Z",
     "shell.execute_reply": "2020-11-29T23:33:30.008531Z"
    },
    "jupyter": {
     "outputs_hidden": false
    },
    "pycharm": {
     "name": "#%%\n"
    }
   },
   "outputs": [],
   "source": [
    "def get_train_test_extra_core_attribution_attributes(preprocessed_dataset, is_training_mask):\n",
    "  \"\"\"Beyond labels and features, we need timelines identifiers to run core attribution\n",
    "  \"\"\"\n",
    "  is_clicked, timeline_ids, total_timeline_id_rewards = preprocessed_dataset['click'] > 0, preprocessed_dataset['timeline_id'], preprocessed_dataset['total_timeline_id_rewards']\n",
    "  return (\n",
    "    is_clicked[is_training_mask], timeline_ids[is_training_mask], total_timeline_id_rewards[is_training_mask],\n",
    "    is_clicked[~is_training_mask], timeline_ids[~is_training_mask], total_timeline_id_rewards[~is_training_mask],\n",
    "  )\n",
    "\n",
    "\n",
    "def train_core_attribution_model(\n",
    "  n_iterations, labels, features, timeline_ids, timeline_rewards, is_eligible, c_regularization, callback=None\n",
    "):\n",
    "  # Initialize the labels with the labels from the training set (set with last touch attribution)\n",
    "  current_labels = labels.astype(float).copy()\n",
    "\n",
    "  for _ in range(n_iterations):\n",
    "    model, current_labels = run_one_iteration(\n",
    "      current_labels, features, is_eligible, timeline_ids, timeline_rewards, c_regularization)\n",
    "\n",
    "    if callback is not None:\n",
    "      callback(model)\n",
    "\n",
    "  return model"
   ]
  },
  {
   "cell_type": "markdown",
   "metadata": {},
   "source": [
    "## Metrics"
   ]
  },
  {
   "cell_type": "markdown",
   "metadata": {},
   "source": [
    "### Additivity likelihood"
   ]
  },
  {
   "cell_type": "markdown",
   "metadata": {},
   "source": [
    "We call additivity likelihood\n",
    "\n",
    "$$\n",
    "\\mathcal{L}^{\\sf A}(\\nu) = \\dfrac{1}{T} \\sum \\limits_{t} \\left[ y_t \\cdot \\ln \\left(\\sum_{q =1}^{\\ell(s_t)}\\nu(s_t^q) \\right)  - \\sum_{q =1}^{\\ell(s_t)}\\nu (s_t^q)\\right]\n",
    "$$\n",
    "\n",
    "We can use it to check whether the algorithm convergesand to evaluate the quality the output, see Section 5.1."
   ]
  },
  {
   "cell_type": "code",
   "execution_count": 25,
   "metadata": {
    "collapsed": false,
    "execution": {
     "iopub.execute_input": "2020-11-29T23:33:30.013030Z",
     "iopub.status.busy": "2020-11-29T23:33:30.012640Z",
     "iopub.status.idle": "2020-11-29T23:33:30.014008Z",
     "shell.execute_reply": "2020-11-29T23:33:30.014322Z"
    },
    "jupyter": {
     "outputs_hidden": false
    },
    "pycharm": {
     "name": "#%%\n"
    }
   },
   "outputs": [],
   "source": [
    "def additivity_likelihood(model_or_predictions, features, timeline_ids, timeline_id_rewards):\n",
    "  # Get model predictions for all displays\n",
    "  if hasattr(model_or_predictions, 'predict_proba'):\n",
    "    model_predictions = model_or_predictions.predict_proba(features)[:, 1]\n",
    "  else:\n",
    "    model_predictions = model_or_predictions\n",
    "\n",
    "  # Gather the attributions per timeline and obtain the sum of the predictions per timeline\n",
    "  predictions_per_display = pd.DataFrame({\n",
    "    'timeline_id': timeline_ids,\n",
    "    'prediction': model_predictions,\n",
    "    'timeline_id_reward': timeline_id_rewards,\n",
    "  })\n",
    "\n",
    "  sum_predictions_by_timeline = (\n",
    "    predictions_per_display\n",
    "    .groupby('timeline_id')\n",
    "    .agg({'prediction': 'sum', 'timeline_id_reward': 'first'})\n",
    "    .reset_index()\n",
    "  )\n",
    "  sum_predictions_by_timeline.columns = ['timeline_id', 'sum_predictions', 'timeline_id_reward']\n",
    "\n",
    "  additivity_llh = (\n",
    "    sum_predictions_by_timeline['timeline_id_reward']\n",
    "    * np.log(sum_predictions_by_timeline['sum_predictions'])\n",
    "    - sum_predictions_by_timeline['sum_predictions']\n",
    "  )\n",
    "\n",
    "  return additivity_llh.mean()\n"
   ]
  },
  {
   "cell_type": "markdown",
   "metadata": {},
   "source": [
    "### Conversion probability\n",
    "\n",
    "the proposed conversion probability of a timeline can be written with our notations as follows\n",
    "$$\n",
    "\\mathbb{P}(V_t = 1) = \\bigg( 1 - \\prod_{q \\in [\\ell(s_t)]} \\big( 1 - \\nu(s_t^q) \\big) \\bigg) \\cdot \\delta^{\\ell(s_t)}\n",
    "$$\n",
    "Here, $\\mathbb{P}(V_t = 1)$ denotes the probability that a timeline $s_t$ leads to a conversion which is a binary reward, and for each display in the timeline $s_t^q$, we identify conversion probability of $s^t_q$ with its valuation $\\nu(\\cdot)$. The first term in brackets represents the probability that at least one display leads to a conversion assuming zero interaction effects. The second term $\\delta^{\\ell(s_t)}$ accounts for the marginally decreasing effect of each ad.\n",
    "\n",
    "See Section 5.3.3, Performance."
   ]
  },
  {
   "cell_type": "code",
   "execution_count": 26,
   "metadata": {
    "execution": {
     "iopub.execute_input": "2020-11-29T23:33:30.019377Z",
     "iopub.status.busy": "2020-11-29T23:33:30.018992Z",
     "iopub.status.idle": "2020-11-29T23:33:30.020306Z",
     "shell.execute_reply": "2020-11-29T23:33:30.020619Z"
    }
   },
   "outputs": [],
   "source": [
    "def conversion_probabilities(model, features, timeline_ids, timeline_id_rewards, delta=0.95):\n",
    "  \"\"\"Compute conversion probability for each timeline id\n",
    "  \"\"\"\n",
    "  # Get model predictions for all displays\n",
    "  model_predictions = model.predict_proba(features)[:, 1]\n",
    "\n",
    "  # Gather the attributions per timeline and obtain the sum of the predictions per timeline\n",
    "  predictions_per_display = pd.DataFrame({\n",
    "    'timeline_id': timeline_ids,\n",
    "    'prediction': model_predictions,\n",
    "    'timeline_id_reward': timeline_id_rewards,\n",
    "  })\n",
    "\n",
    "  # the following is equivalent to apply compute_conversion_proba function (but much faster)\n",
    "  # def compute_conversion_proba(predictions):\n",
    "  #   conversion_proba_with_no_interaction = 1 - np.prod([\n",
    "  #     (1 - prediction) for prediction in predictions\n",
    "  #   ])\n",
    "  #   decay_factor = delta ** len(predictions)\n",
    "  #   return conversion_proba_with_no_interaction * decay_factor\n",
    "\n",
    "  predictions_per_display['no_conversion'] = 1 - predictions_per_display['prediction']\n",
    "\n",
    "  conversion_proba_by_timeline = (\n",
    "    predictions_per_display\n",
    "    .groupby('timeline_id')\n",
    "    .agg({'no_conversion': ['prod', 'count'], 'timeline_id_reward': 'first'})\n",
    "    .reset_index()\n",
    "  )\n",
    "\n",
    "  conversion_proba_by_timeline['conversion_proba'] = (\n",
    "    (1 - conversion_proba_by_timeline[('no_conversion', 'prod')])\n",
    "    * (delta ** conversion_proba_by_timeline[('no_conversion', 'count')])\n",
    "  )\n",
    "\n",
    "  return (\n",
    "    conversion_proba_by_timeline[('timeline_id_reward', 'first')],\n",
    "    conversion_proba_by_timeline['conversion_proba'],\n",
    "  )\n",
    "\n",
    "# From these conversion probabilities, one can compute the following metric used \n",
    "# to evaluate binary classifications.\n",
    "def average_precision(labels, predictions):\n",
    "  return sklearn.metrics.average_precision_score(labels, predictions)"
   ]
  },
  {
   "cell_type": "markdown",
   "metadata": {},
   "source": [
    "We then aggregate all the two metrics"
   ]
  },
  {
   "cell_type": "code",
   "execution_count": 27,
   "metadata": {
    "execution": {
     "iopub.execute_input": "2020-11-29T23:33:30.023648Z",
     "iopub.status.busy": "2020-11-29T23:33:30.023272Z",
     "iopub.status.idle": "2020-11-29T23:33:30.024535Z",
     "shell.execute_reply": "2020-11-29T23:33:30.024850Z"
    }
   },
   "outputs": [],
   "source": [
    "def compute_metrics(model, features, timeline_ids, timeline_rewards):\n",
    "  conversion_labels, conversion_probas = conversion_probabilities(model, features, timeline_ids, timeline_rewards)\n",
    "    \n",
    "  return {\n",
    "    'additivity_likelihood': additivity_likelihood(model, features, timeline_ids, timeline_rewards),\n",
    "    'average_precision': average_precision(conversion_labels, conversion_probas),\n",
    "  }"
   ]
  },
  {
   "cell_type": "markdown",
   "metadata": {},
   "source": [
    "## Experiments : compare last touch and core attributions"
   ]
  },
  {
   "cell_type": "code",
   "execution_count": 28,
   "metadata": {
    "execution": {
     "iopub.execute_input": "2020-11-29T23:33:30.033200Z",
     "iopub.status.busy": "2020-11-29T23:33:30.031732Z",
     "iopub.status.idle": "2020-11-29T23:33:30.034860Z",
     "shell.execute_reply": "2020-11-29T23:33:30.034528Z"
    }
   },
   "outputs": [],
   "source": [
    "cache_results_dir = 'cache_results'\n",
    "\n",
    "def get_scenario_valuations_path(debug_sample, hash_space, c_regularization):\n",
    "  file_path = os.path.join(cache_results_dir, f'sample_{debug_sample}', f'C={c_regularization}', f'hash_space={int(hash_space)}', 'senario_valuations.csv')\n",
    "  os.makedirs(os.path.dirname(file_path), exist_ok=True)\n",
    "  return file_path\n",
    "\n",
    "def get_metrics_path(debug_sample, hash_space, c_regularization):\n",
    "  file_path = os.path.join(cache_results_dir, f'sample_{debug_sample}', f'C={c_regularization}', f'hash_space={int(hash_space)}', 'metrics.csv')\n",
    "  os.makedirs(os.path.dirname(file_path), exist_ok=True)\n",
    "  return file_path\n",
    "\n",
    "def get_conversion_probabilities_path(debug_sample, hash_space, c_regularization, model_name):\n",
    "  file_path = os.path.join(cache_results_dir, f'sample_{debug_sample}', f'C={c_regularization}', f'hash_space={int(hash_space)}', 'conversion_probabilities', f'{model_name}.csv')\n",
    "  os.makedirs(os.path.dirname(file_path), exist_ok=True)\n",
    "  return file_path\n",
    "\n",
    "def get_last_touch_model_path(debug_sample, hash_space, c_regularization):\n",
    "  file_path = os.path.join(cache_results_dir, f'sample_{debug_sample}', f'C={c_regularization}', f'hash_space={int(hash_space)}', f'last_touch_model.joblib')\n",
    "  os.makedirs(os.path.dirname(file_path), exist_ok=True)\n",
    "  return file_path\n",
    "\n",
    "def get_core_attribution_model_path(debug_sample, hash_space, c_regularization):\n",
    "  file_path = os.path.join(cache_results_dir, f'sample_{debug_sample}', f'C={c_regularization}', f'hash_space={int(hash_space)}', f'core_attribution_model.joblib')\n",
    "  os.makedirs(os.path.dirname(file_path), exist_ok=True)\n",
    "  return file_path\n",
    "\n",
    "def get_valuations_given_time_since_last_click_path(debug_sample, hash_space, c_regularization):\n",
    "  file_path = os.path.join(cache_results_dir, f'sample_{debug_sample}', f'C={c_regularization}', f'hash_space={int(hash_space)}', f'valuations_given_time_since_last_click.csv')\n",
    "  os.makedirs(os.path.dirname(file_path), exist_ok=True)\n",
    "  return file_path\n",
    "\n",
    "def get_valuations_given_number_of_clicks_path(debug_sample, hash_space, c_regularization):\n",
    "  file_path = os.path.join(cache_results_dir, f'sample_{debug_sample}', f'C={c_regularization}', f'hash_space={int(hash_space)}', f'valuations_given_number_of_clicks.csv')\n",
    "  os.makedirs(os.path.dirname(file_path), exist_ok=True)\n",
    "  return file_path\n",
    "\n",
    "def get_metrics_with_hashspace_path(debug_sample, c_regularization):\n",
    "  file_path = os.path.join(cache_results_dir, f'sample_{debug_sample}', f'C={c_regularization}', 'metrics_with_hashspace.csv')\n",
    "  os.makedirs(os.path.dirname(file_path), exist_ok=True)\n",
    "  return file_path"
   ]
  },
  {
   "cell_type": "markdown",
   "metadata": {
    "jupyter": {
     "outputs_hidden": false
    },
    "pycharm": {
     "name": "#%%\n"
    }
   },
   "source": [
    "### For one feature space size"
   ]
  },
  {
   "cell_type": "code",
   "execution_count": 29,
   "metadata": {
    "collapsed": false,
    "execution": {
     "iopub.execute_input": "2020-11-29T23:33:30.040821Z",
     "iopub.status.busy": "2020-11-29T23:33:30.037395Z",
     "iopub.status.idle": "2020-11-30T03:20:07.784024Z",
     "shell.execute_reply": "2020-11-30T03:20:07.784354Z"
    },
    "jupyter": {
     "outputs_hidden": false
    },
    "pycharm": {
     "name": "#%%\n"
    }
   },
   "outputs": [
    {
     "name": "stdout",
     "output_type": "stream",
     "text": [
      "CPU times: user 3h 24min 50s, sys: 21min 54s, total: 3h 46min 44s\n",
      "Wall time: 3h 46min 37s\n"
     ]
    }
   ],
   "source": [
    "%%time\n",
    "\n",
    "def launch_experiment(n_iterations, preprocessed_dataset, debug_sample, hash_space, c_regularization):\n",
    "  # Load data\n",
    "  is_training_mask = split_train_test_mask(preprocessed_dataset)\n",
    "  (\n",
    "    train_labels, train_features,\n",
    "    test_labels, test_features\n",
    "  ) = get_train_test_labels_and_features(preprocessed_dataset, is_training_mask, hash_space=hash_space, use_cache=True)\n",
    "  (\n",
    "    is_clicked_train, timeline_ids_train, total_timeline_id_rewards_train,\n",
    "    is_clicked_test, timeline_ids_test, total_timeline_id_rewards_test,\n",
    "  ) = get_train_test_extra_core_attribution_attributes(preprocessed_dataset, is_training_mask)\n",
    "  \n",
    "  # Train last touch\n",
    "  last_touch_model = train_last_touch_model(train_labels, train_features, c_regularization)\n",
    "  joblib.dump(last_touch_model, get_last_touch_model_path(debug_sample, hash_space, c_regularization))\n",
    "  \n",
    "  # Train core attribution and collect metrics accross iterations\n",
    "  scenario_valuations = []\n",
    "  metrics = {}\n",
    "  \n",
    "  # Get some displays with a non zero attribution value to display there valuations.\n",
    "  n_selected_displays = 9\n",
    "  selected_displays = (total_timeline_id_rewards_train > 0) & (np.cumsum(total_timeline_id_rewards_train) < n_selected_displays)\n",
    "  \n",
    "  def metric_callback(model, scenario_valuations, metrics):\n",
    "    train_metrics = compute_metrics(model, train_features, timeline_ids_train, total_timeline_id_rewards_train)\n",
    "    for label, metric in train_metrics.items():\n",
    "      metrics[f'train_{label}'] = metrics.get(f'train_{label}', []) + [metric]\n",
    "      \n",
    "    test_metrics = compute_metrics(model, test_features, timeline_ids_test, total_timeline_id_rewards_test)\n",
    "    for label, metric in test_metrics.items():\n",
    "      metrics[f'test_{label}'] = metrics.get(f'test_{label}', []) + [metric]\n",
    "    \n",
    "    scenario_valuations += [{\n",
    "      f'Display {i}': model.predict_proba(train_features[i])[0, 1]\n",
    "      for i in range(n_selected_displays)\n",
    "    }]\n",
    "\n",
    "  core_attribution_model = train_core_attribution_model(\n",
    "    n_iterations, train_labels, train_features, timeline_ids_train, total_timeline_id_rewards_train, is_clicked_train, c_regularization, \n",
    "    callback=lambda model, scenario_valuations=scenario_valuations, metrics=metrics: metric_callback(model, scenario_valuations, metrics),\n",
    "  )\n",
    "  joblib.dump(core_attribution_model, get_core_attribution_model_path(debug_sample, hash_space, c_regularization))\n",
    "  \n",
    "  pd.DataFrame(scenario_valuations).to_csv(get_scenario_valuations_path(debug_sample, hash_space, c_regularization), index=False)\n",
    "  pd.DataFrame(metrics).to_csv(get_metrics_path(debug_sample, hash_space, c_regularization), index=False)\n",
    "  \n",
    "  # Save conversion probabilities to draw precision-recall curve\n",
    "  def save_conversion_probabilities(save_path, model, features, timeline_ids, timeline_rewards, delta=0.95):\n",
    "    conversion_labels, conversion_probas = conversion_probabilities(model, features, timeline_ids, timeline_rewards)\n",
    "    joblib.dump((conversion_labels, conversion_probas), save_path)\n",
    "  \n",
    "  for model, model_name in [\n",
    "    (last_touch_model, 'last_touch_model'), \n",
    "    (core_attribution_model, 'core_attribution_model')\n",
    "  ]:\n",
    "    for mode in ['train', 'test']:\n",
    "      save_path = get_conversion_probabilities_path(debug_sample, hash_space, c_regularization, f'{model_name}_{mode}')\n",
    "      save_conversion_probabilities(\n",
    "        save_path, model, \n",
    "        train_features if mode == 'train' else test_features,\n",
    "        timeline_ids_train if mode == 'train' else timeline_ids_test,\n",
    "        total_timeline_id_rewards_train if mode == 'train' else total_timeline_id_rewards_test,\n",
    "      )\n",
    "\n",
    "launch_experiment(10, preprocessed_dataset, DEBUG_SAMPLE, HASH_SPACE, C_REGULARIZATION)"
   ]
  },
  {
   "cell_type": "code",
   "execution_count": 30,
   "metadata": {
    "collapsed": false,
    "execution": {
     "iopub.execute_input": "2020-11-30T03:20:07.799146Z",
     "iopub.status.busy": "2020-11-30T03:20:07.798362Z",
     "iopub.status.idle": "2020-11-30T03:20:08.333896Z",
     "shell.execute_reply": "2020-11-30T03:20:08.333533Z"
    },
    "jupyter": {
     "outputs_hidden": false
    },
    "pycharm": {
     "name": "#%%\n"
    }
   },
   "outputs": [
    {
     "data": {
      "image/png": "[encoded data removed]",
      "text/plain": [
       "<Figure size 432x288 with 1 Axes>"
      ]
     },
     "metadata": {},
     "output_type": "display_data"
    }
   ],
   "source": [
    "def plot_scenario_valuation(scenario_valuations_df, ax):\n",
    "  display_types = sorted(list(scenario_valuations_df.columns))\n",
    "  for display_type in display_types:\n",
    "    ax.plot(scenario_valuations_df[display_type], label=display_type)\n",
    "\n",
    "  ax.set_title('Convergence of display valuations')\n",
    "  ax.set_ylabel('display valuation')\n",
    "  ax.set_xlabel('iteration number')\n",
    "  ax.set_yscale('log')\n",
    "  ax.set_ylim([None, ax.get_ylim()[1] * (ax.get_ylim()[1] / ax.get_ylim()[0]) ** 0.5]) # Add some space at the top\n",
    "  ax.legend(loc='upper right', ncol=3)\n",
    "\n",
    "fig, ax = plt.subplots(1, 1)\n",
    "scenario_valuations_df = pd.read_csv(get_scenario_valuations_path(DEBUG_SAMPLE, HASH_SPACE, C_REGULARIZATION))\n",
    "plot_scenario_valuation(scenario_valuations_df, ax)"
   ]
  },
  {
   "cell_type": "code",
   "execution_count": 31,
   "metadata": {
    "collapsed": false,
    "execution": {
     "iopub.execute_input": "2020-11-30T03:20:08.348852Z",
     "iopub.status.busy": "2020-11-30T03:20:08.347228Z",
     "iopub.status.idle": "2020-11-30T03:20:08.671871Z",
     "shell.execute_reply": "2020-11-30T03:20:08.672187Z"
    },
    "jupyter": {
     "outputs_hidden": false
    },
    "pycharm": {
     "name": "#%%\n"
    }
   },
   "outputs": [
    {
     "data": {
      "image/png": "[encoded data removed]",
      "text/plain": [
       "<Figure size 720x288 with 2 Axes>"
      ]
     },
     "metadata": {},
     "output_type": "display_data"
    }
   ],
   "source": [
    "def plot_additivity_likelihood(additivity_likelihoods, ax):\n",
    "  ax.plot(range(1, len(additivity_likelihoods) + 1), additivity_likelihoods)\n",
    "  ax.set_ylabel('Additivity likelihood', fontsize=14)\n",
    "  ax.set_xlabel('Iteration number', fontsize=14)\n",
    "\n",
    "  llh_init = additivity_likelihoods[0]\n",
    "  llh_conv = additivity_likelihoods[-1]\n",
    "  ax.scatter(len(additivity_likelihoods), llh_conv, s=60, label=f'core attribution', c='C0')\n",
    "  ax.scatter(1, llh_init, s=60, label=f'last touch attribution', c='C1')\n",
    "  ax.legend()\n",
    "\n",
    "fig, axes = plt.subplots(1, 2, figsize=(10, 4))\n",
    "metrics_df = pd.read_csv(get_metrics_path(DEBUG_SAMPLE, HASH_SPACE, C_REGULARIZATION))\n",
    "plot_additivity_likelihood(metrics_df[\"train_additivity_likelihood\"].values, axes[0])\n",
    "axes[0].set_title('Convergence on train set')\n",
    "plot_additivity_likelihood(metrics_df[\"test_additivity_likelihood\"].values, axes[1])\n",
    "axes[1].set_title('Convergence on test set')\n",
    "fig.tight_layout()"
   ]
  },
  {
   "cell_type": "code",
   "execution_count": 32,
   "metadata": {
    "collapsed": false,
    "execution": {
     "iopub.execute_input": "2020-11-30T03:20:08.676607Z",
     "iopub.status.busy": "2020-11-30T03:20:08.676224Z",
     "iopub.status.idle": "2020-11-30T03:20:09.585583Z",
     "shell.execute_reply": "2020-11-30T03:20:09.585943Z"
    },
    "jupyter": {
     "outputs_hidden": false
    },
    "pycharm": {
     "name": "#%%\n"
    }
   },
   "outputs": [],
   "source": [
    "# Saving figures for paper\n",
    "metrics_df = pd.read_csv(get_metrics_path(DEBUG_SAMPLE, HASH_SPACE, C_REGULARIZATION))\n",
    "\n",
    "fig, ax = plt.subplots(1, 1, figsize=(5, 3))\n",
    "plot_additivity_likelihood(metrics_df[\"train_additivity_likelihood\"].values, ax)\n",
    "fig.subplots_adjust(bottom=0.15, left=0.2, top=0.95, right=0.95)\n",
    "plt.savefig('additive_likelihood_on_train_set.pdf')\n",
    "plt.close(fig)\n",
    "\n",
    "fig, ax = plt.subplots(1, 1, figsize=(5, 3))\n",
    "plot_additivity_likelihood(metrics_df[\"test_additivity_likelihood\"].values, ax)\n",
    "fig.subplots_adjust(bottom=0.15, left=0.2, top=0.95, right=0.95)\n",
    "plt.savefig('additive_likelihood_on_test_set.pdf')\n",
    "plt.close(fig)"
   ]
  },
  {
   "cell_type": "code",
   "execution_count": 33,
   "metadata": {
    "execution": {
     "iopub.execute_input": "2020-11-30T03:20:09.600205Z",
     "iopub.status.busy": "2020-11-30T03:20:09.599575Z",
     "iopub.status.idle": "2020-11-30T03:20:16.096869Z",
     "shell.execute_reply": "2020-11-30T03:20:16.096507Z"
    }
   },
   "outputs": [
    {
     "data": {
      "image/png": "[encoded data removed]",
      "text/plain": [
       "<Figure size 720x288 with 2 Axes>"
      ]
     },
     "metadata": {},
     "output_type": "display_data"
    }
   ],
   "source": [
    "def plot_precision_recall_curve(ca_labels, ca_predictions, lt_labels, lt_predictions, ax):\n",
    "  np.testing.assert_array_equal(ca_labels, lt_labels)\n",
    "  ca_precision, ca_recall, _ = sklearn.metrics.precision_recall_curve(ca_labels, ca_predictions)\n",
    "  ax.plot(ca_precision, ca_recall, label='core attribution')\n",
    "  lt_precision, lt_recall, _ = sklearn.metrics.precision_recall_curve(lt_labels, lt_predictions)\n",
    "  ax.plot(lt_precision, lt_recall, label='last touch')\n",
    "  \n",
    "  ax.set_ylabel('Precision', fontsize=14)\n",
    "  ax.set_xlabel('Recall', fontsize=14)\n",
    "  ax.legend()\n",
    "\n",
    "fig, axes = plt.subplots(1, 2, figsize=(10, 4))\n",
    "ca_labels, ca_predictions = joblib.load(get_conversion_probabilities_path(DEBUG_SAMPLE, HASH_SPACE, C_REGULARIZATION, 'core_attribution_model_train'))\n",
    "lt_labels, lt_predictions = joblib.load(get_conversion_probabilities_path(DEBUG_SAMPLE, HASH_SPACE, C_REGULARIZATION, 'last_touch_model_train'))\n",
    "plot_precision_recall_curve(ca_labels, ca_predictions, lt_labels, lt_predictions, axes[0])\n",
    "axes[0].set_title('Precision recall curve\\non train set')\n",
    "\n",
    "ca_labels, ca_predictions = joblib.load(get_conversion_probabilities_path(DEBUG_SAMPLE, HASH_SPACE, C_REGULARIZATION, 'core_attribution_model_test'))\n",
    "lt_labels, lt_predictions = joblib.load(get_conversion_probabilities_path(DEBUG_SAMPLE, HASH_SPACE, C_REGULARIZATION, 'last_touch_model_test'))\n",
    "plot_precision_recall_curve(ca_labels, ca_predictions, lt_labels, lt_predictions, axes[1])\n",
    "axes[1].set_title('Precision recall curve\\non test set')\n",
    "None"
   ]
  },
  {
   "cell_type": "markdown",
   "metadata": {},
   "source": [
    "### Qualitative checks"
   ]
  },
  {
   "cell_type": "code",
   "execution_count": 34,
   "metadata": {
    "collapsed": false,
    "execution": {
     "iopub.execute_input": "2020-11-30T03:20:16.104206Z",
     "iopub.status.busy": "2020-11-30T03:20:16.103804Z",
     "iopub.status.idle": "2020-11-30T03:20:41.861127Z",
     "shell.execute_reply": "2020-11-30T03:20:41.861472Z"
    },
    "jupyter": {
     "outputs_hidden": false
    },
    "pycharm": {
     "name": "#%%\n"
    }
   },
   "outputs": [],
   "source": [
    "def relative_valuation_given_time_since_last_click(preprocessed_dataset, debug_sample, hash_space, c_regularization):\n",
    "  # Load models and data\n",
    "  core_attribution_model = joblib.load(get_core_attribution_model_path(DEBUG_SAMPLE, HASH_SPACE, C_REGULARIZATION))\n",
    "  last_touch_model = joblib.load(get_last_touch_model_path(DEBUG_SAMPLE, HASH_SPACE, C_REGULARIZATION))\n",
    "  \n",
    "  is_training_mask = split_train_test_mask(preprocessed_dataset)\n",
    "  (\n",
    "    train_labels, train_features,\n",
    "    test_labels, test_features\n",
    "  ) = get_train_test_labels_and_features(preprocessed_dataset, is_training_mask, hash_space=hash_space, use_cache=True)\n",
    "  \n",
    "  # Compute model valuations\n",
    "  df = pd.DataFrame()\n",
    "  df['last_touch_valuation'] = last_touch_model.predict_proba(train_features)[:, 1]\n",
    "  df['core_attribution_valuation'] = core_attribution_model.predict_proba(train_features)[:, 1]\n",
    "  df['relative_valuation'] = (df['core_attribution_valuation'] - df['last_touch_valuation']) / df['last_touch_valuation']\n",
    "\n",
    "  # Time since last click\n",
    "  packed_hours = 12\n",
    "  df['hour_since_last_click'] = (\n",
    "    preprocessed_dataset['time_since_last_click'][is_training_mask].values / (packed_hours * 3600)\n",
    "  ).astype(int) * packed_hours\n",
    "  \n",
    "  (\n",
    "    df[df['hour_since_last_click'] > 0][['hour_since_last_click', 'relative_valuation']]\n",
    "    .groupby('hour_since_last_click')\n",
    "    .mean()\n",
    "    .reset_index()\n",
    "  ).to_csv(\n",
    "    get_valuations_given_time_since_last_click_path(debug_sample, hash_space, c_regularization)\n",
    "  )\n",
    "  \n",
    "  # Number of clicks already made\n",
    "  df['number_of_clicks'] = preprocessed_dataset['nb_clicks'][is_training_mask].values\n",
    "  (\n",
    "    df[['number_of_clicks', 'relative_valuation']]\n",
    "    .groupby('number_of_clicks')\n",
    "    .mean()\n",
    "    .reset_index()\n",
    "  ).to_csv(\n",
    "    get_valuations_given_number_of_clicks_path(debug_sample, hash_space, c_regularization)\n",
    "  )\n",
    "  \n",
    "relative_valuation_given_time_since_last_click(preprocessed_dataset, DEBUG_SAMPLE, HASH_SPACE, C_REGULARIZATION)"
   ]
  },
  {
   "cell_type": "code",
   "execution_count": 35,
   "metadata": {
    "execution": {
     "iopub.execute_input": "2020-11-30T03:20:41.868162Z",
     "iopub.status.busy": "2020-11-30T03:20:41.867758Z",
     "iopub.status.idle": "2020-11-30T03:20:42.140270Z",
     "shell.execute_reply": "2020-11-30T03:20:42.139919Z"
    }
   },
   "outputs": [
    {
     "data": {
      "image/png": "[encoded data removed]",
      "text/plain": [
       "<Figure size 576x288 with 2 Axes>"
      ]
     },
     "metadata": {},
     "output_type": "display_data"
    }
   ],
   "source": [
    "tslc_mean_scores_df = pd.read_csv(get_valuations_given_time_since_last_click_path(DEBUG_SAMPLE, HASH_SPACE, C_REGULARIZATION))\n",
    "nb_clicks_mean_scores_df = pd.read_csv(get_valuations_given_number_of_clicks_path(DEBUG_SAMPLE, HASH_SPACE, C_REGULARIZATION))\n",
    "\n",
    "rel_diff_label=r'$\\mathrm{Average} \\left( \\frac{\\nu^* - \\nu^{\\mathrm{LT}}}{\\nu^{\\mathrm{LT}}} \\right)$'\n",
    "\n",
    "def plot_time_since_last_click(tslc_mean_scores_df, ax):\n",
    "  n_hours = 700\n",
    "  ax.plot(\n",
    "    tslc_mean_scores_df['hour_since_last_click'][tslc_mean_scores_df['hour_since_last_click'] <= n_hours],\n",
    "    tslc_mean_scores_df['relative_valuation'][tslc_mean_scores_df['hour_since_last_click'] <= n_hours] * 100,\n",
    "    label=rel_diff_label\n",
    "  )\n",
    "  \n",
    "  ax.yaxis.set_major_formatter(PercentFormatter())\n",
    "  \n",
    "  ax.set_xlabel('Hours since last click')\n",
    "  ax.legend(fontsize=12)\n",
    "\n",
    "    \n",
    "def plot_nb_clicks(nb_clicks_mean_scores_df, ax):\n",
    "  keep_x_nclicks = 7\n",
    "  ax.plot(\n",
    "    nb_clicks_mean_scores_df['number_of_clicks'][nb_clicks_mean_scores_df['number_of_clicks'] <= keep_x_nclicks], \n",
    "    nb_clicks_mean_scores_df['relative_valuation'][nb_clicks_mean_scores_df['number_of_clicks'] <= keep_x_nclicks] * 100, \n",
    "    label=rel_diff_label,\n",
    "  )\n",
    "  ax.set_xlabel('Number of clicks before display')\n",
    "  ax.yaxis.set_major_formatter(PercentFormatter())\n",
    "  ax.legend(fontsize=12)\n",
    "\n",
    "\n",
    "fig, axes = plt.subplots(1, 2, figsize=(8, 4))\n",
    "plot_time_since_last_click(tslc_mean_scores_df, axes[0])\n",
    "axes[0].set_ylabel('average valuation (relative diff)')\n",
    "plot_nb_clicks(nb_clicks_mean_scores_df, axes[1])\n",
    "\n",
    "fig.tight_layout()"
   ]
  },
  {
   "cell_type": "code",
   "execution_count": 36,
   "metadata": {
    "execution": {
     "iopub.execute_input": "2020-11-30T03:20:42.152922Z",
     "iopub.status.busy": "2020-11-30T03:20:42.152533Z",
     "iopub.status.idle": "2020-11-30T03:20:42.504985Z",
     "shell.execute_reply": "2020-11-30T03:20:42.505297Z"
    }
   },
   "outputs": [],
   "source": [
    "# Saving figures for paper\n",
    "fig, ax = plt.subplots(1, 1, figsize=(5, 3))\n",
    "plot_time_since_last_click(tslc_mean_scores_df, ax)\n",
    "ax.set_ylabel('average valuation (relative diff)')\n",
    "fig.subplots_adjust(bottom=0.15, left=0.2, top=0.95, right=0.95)\n",
    "plt.savefig('relative_score_given_time_since_last_click.pdf')\n",
    "plt.close(fig)\n",
    "\n",
    "fig, ax = plt.subplots(1, 1, figsize=(5, 3))\n",
    "plot_nb_clicks(nb_clicks_mean_scores_df, ax)\n",
    "ax.set_ylabel('average valuation (relative diff)')\n",
    "fig.subplots_adjust(bottom=0.15, left=0.2, top=0.95, right=0.95)\n",
    "plt.savefig('relative_score_given_nb_clicks.pdf')\n",
    "plt.close(fig)"
   ]
  },
  {
   "cell_type": "markdown",
   "metadata": {},
   "source": [
    "### For several feature space sizes\n",
    "\n",
    "To  put  these  results  in  perspective,  we  additionally  tested  the  sensitivity  of  our  results  withrespect  to  the  size  of  the  feature  space.  Indeed,  with  the  hashing  trick,  we  are  embedding  our feature space into a target space whose size can be controlled"
   ]
  },
  {
   "cell_type": "code",
   "execution_count": 37,
   "metadata": {
    "collapsed": false,
    "execution": {
     "iopub.execute_input": "2020-11-30T03:20:42.510995Z",
     "iopub.status.busy": "2020-11-30T03:20:42.508008Z",
     "iopub.status.idle": "2020-11-30T07:39:45.017268Z",
     "shell.execute_reply": "2020-11-30T07:39:45.017596Z"
    },
    "jupyter": {
     "outputs_hidden": false
    },
    "pycharm": {
     "name": "#%%\n"
    }
   },
   "outputs": [
    {
     "name": "stdout",
     "output_type": "stream",
     "text": [
      "CPU times: user 34.3 s, sys: 7.81 s, total: 42.1 s\n",
      "Wall time: 4h 19min 2s\n"
     ]
    }
   ],
   "source": [
    "%%time\n",
    "def launch_experiment_for_one_feature_space_size(n_iterations, preprocessed_dataset, hash_space, c_regularization):\n",
    "  # Load data\n",
    "  is_training_mask = split_train_test_mask(preprocessed_dataset)\n",
    "  (\n",
    "    train_labels, train_features,\n",
    "    test_labels, test_features\n",
    "  ) = get_train_test_labels_and_features(preprocessed_dataset, is_training_mask, hash_space=hash_space, use_cache=True)\n",
    "  (\n",
    "    is_clicked_train, timeline_ids_train, total_timeline_id_rewards_train,\n",
    "    is_clicked_test, timeline_ids_test, total_timeline_id_rewards_test,\n",
    "  ) = get_train_test_extra_core_attribution_attributes(preprocessed_dataset, is_training_mask)\n",
    "\n",
    "  # Train models\n",
    "  last_touch_model = train_last_touch_model(train_labels, train_features, c_regularization)\n",
    "  core_attribution_model = train_core_attribution_model(10, train_labels, train_features, timeline_ids_train, total_timeline_id_rewards_train, is_clicked_train, c_regularization)\n",
    "\n",
    "  # Compute train and test metrics\n",
    "  return (\n",
    "    compute_metrics(last_touch_model, train_features, timeline_ids_train, total_timeline_id_rewards_train),\n",
    "    compute_metrics(last_touch_model, test_features, timeline_ids_test, total_timeline_id_rewards_test),\n",
    "    compute_metrics(core_attribution_model, train_features, timeline_ids_train, total_timeline_id_rewards_train),\n",
    "    compute_metrics(core_attribution_model, test_features, timeline_ids_test, total_timeline_id_rewards_test),\n",
    "  )\n",
    "\n",
    "\n",
    "def launch_experiment_for_several_feature_space_sizes(n_iterations, preprocessed_dataset, hash_spaces, n_jobs, debug_sample, c_regularization):\n",
    "  parallel_result = joblib.Parallel(n_jobs=n_jobs)(\n",
    "    joblib.delayed(launch_experiment_for_one_feature_space_size)\n",
    "    (n_iterations, preprocessed_dataset, hash_space, c_regularization) \n",
    "    for hash_space in hash_spaces\n",
    "  )\n",
    "\n",
    "  def _unstack_result(stacked_result):\n",
    "    metric_names = stacked_result[0].keys()\n",
    "    return {\n",
    "      metric_name: [metrics[metric_name] for metrics in stacked_result]\n",
    "      for metric_name in metric_names\n",
    "    }\n",
    "\n",
    "  (\n",
    "    train_last_touch_metrics, test_last_touch_metrics,\n",
    "    train_core_attribution_metrics, test_core_attribution_metrics,\n",
    "  ) = map(_unstack_result, zip(*parallel_result))\n",
    "  \n",
    "  metrics = {'hash_spaces': hash_spaces}\n",
    "  metric_names = train_last_touch_metrics.keys()\n",
    "  for metric_name in metric_names:\n",
    "    for result, result_name in [\n",
    "      (train_last_touch_metrics, 'train_last_touch'), \n",
    "      (train_core_attribution_metrics, 'train_core_attribution'),\n",
    "      (test_last_touch_metrics, 'test_last_touch'),\n",
    "      (test_core_attribution_metrics, 'test_core_attribution'),\n",
    "    ]:\n",
    "      metrics[f'{result_name}_{metric_name}'] = result[metric_name]\n",
    "\n",
    "  pd.DataFrame(metrics).to_csv(get_metrics_with_hashspace_path(debug_sample, c_regularization), index=False)\n",
    "\n",
    "\n",
    "hash_spaces = [int(2**space) for space in range(10, 17)]\n",
    "n_jobs = len(hash_spaces)\n",
    "launch_experiment_for_several_feature_space_sizes(10, preprocessed_dataset, hash_spaces, n_jobs, DEBUG_SAMPLE, C_REGULARIZATION)"
   ]
  },
  {
   "cell_type": "code",
   "execution_count": 38,
   "metadata": {
    "execution": {
     "iopub.execute_input": "2020-11-30T07:39:45.023587Z",
     "iopub.status.busy": "2020-11-30T07:39:45.023196Z",
     "iopub.status.idle": "2020-11-30T07:39:45.304989Z",
     "shell.execute_reply": "2020-11-30T07:39:45.305306Z"
    }
   },
   "outputs": [
    {
     "data": {
      "image/png": "[encoded data removed]",
      "text/plain": [
       "<Figure size 720x288 with 2 Axes>"
      ]
     },
     "metadata": {},
     "output_type": "display_data"
    }
   ],
   "source": [
    "def plot_metric_given_hashspace(hash_spaces, additivity_likelihoods, last_touch_likelihoods, ax, metric_label):\n",
    "  ax.plot(hash_spaces, additivity_likelihoods, label='core attribution', marker='o')\n",
    "  ax.plot(hash_spaces, last_touch_likelihoods, label='last touch attribution', marker='x')\n",
    "\n",
    "  ax.set_ylabel(metric_label, fontsize=14)\n",
    "  ax.set_xlabel('Size of features space')\n",
    "  ax.legend(loc='lower right')\n",
    "\n",
    "metrics_df = pd.read_csv(get_metrics_with_hashspace_path(DEBUG_SAMPLE, C_REGULARIZATION))\n",
    "fig, axes = plt.subplots(1, 2, figsize=(10, 4), sharey=False)\n",
    "plot_metric_given_hashspace(\n",
    "  metrics_df['hash_spaces'],\n",
    "  metrics_df['train_core_attribution_additivity_likelihood'],\n",
    "  metrics_df['train_last_touch_additivity_likelihood'], \n",
    "  axes[0], \"Additivity likelihood\"\n",
    ")\n",
    "axes[0].set_title('Likelihood on train set')\n",
    "plot_metric_given_hashspace(\n",
    "  metrics_df['hash_spaces'],\n",
    "  metrics_df['test_core_attribution_additivity_likelihood'],\n",
    "  metrics_df['test_last_touch_additivity_likelihood'],\n",
    "  axes[1], \"Additivity likelihood\"\n",
    ")\n",
    "axes[1].set_title('Likelihood on test set')\n",
    "\n",
    "fig.tight_layout()"
   ]
  },
  {
   "cell_type": "code",
   "execution_count": 39,
   "metadata": {
    "execution": {
     "iopub.execute_input": "2020-11-30T07:39:45.318664Z",
     "iopub.status.busy": "2020-11-30T07:39:45.318022Z",
     "iopub.status.idle": "2020-11-30T07:39:45.643128Z",
     "shell.execute_reply": "2020-11-30T07:39:45.642737Z"
    }
   },
   "outputs": [],
   "source": [
    "# Saving figures for paper\n",
    "fig, ax = plt.subplots(1, 1, figsize=(5, 3))\n",
    "plot_metric_given_hashspace(\n",
    "  metrics_df['hash_spaces'],\n",
    "  metrics_df['train_core_attribution_additivity_likelihood'],\n",
    "  metrics_df['train_last_touch_additivity_likelihood'], \n",
    "  ax, \"Additivity likelihood\"\n",
    ")\n",
    "fig.subplots_adjust(bottom=0.15, left=0.2, top=0.95, right=0.95)\n",
    "plt.savefig('additive_likelihood_given_features_space_on_train_set.pdf')\n",
    "plt.close(fig)\n",
    "\n",
    "fig, ax = plt.subplots(1, 1, figsize=(5, 3))\n",
    "plot_metric_given_hashspace(\n",
    "  metrics_df['hash_spaces'],\n",
    "  metrics_df['test_core_attribution_additivity_likelihood'],\n",
    "  metrics_df['test_last_touch_additivity_likelihood'],\n",
    "  ax, \"Additivity likelihood\"\n",
    ")\n",
    "fig.subplots_adjust(bottom=0.15, left=0.2, top=0.95, right=0.95)\n",
    "plt.savefig('additive_likelihood_given_features_space_on_test_set.pdf')\n",
    "plt.close(fig)"
   ]
  },
  {
   "cell_type": "code",
   "execution_count": 40,
   "metadata": {
    "execution": {
     "iopub.execute_input": "2020-11-30T07:39:45.647406Z",
     "iopub.status.busy": "2020-11-30T07:39:45.647024Z",
     "iopub.status.idle": "2020-11-30T07:39:45.894462Z",
     "shell.execute_reply": "2020-11-30T07:39:45.894784Z"
    }
   },
   "outputs": [
    {
     "data": {
      "image/png": "[encoded data removed]",
      "text/plain": [
       "<Figure size 720x288 with 2 Axes>"
      ]
     },
     "metadata": {},
     "output_type": "display_data"
    }
   ],
   "source": [
    "metrics_df = pd.read_csv(get_metrics_with_hashspace_path(DEBUG_SAMPLE, C_REGULARIZATION))\n",
    "fig, axes = plt.subplots(1, 2, figsize=(10, 4), sharey=False)\n",
    "plot_metric_given_hashspace(\n",
    "  metrics_df['hash_spaces'],\n",
    "  metrics_df['train_core_attribution_average_precision'],\n",
    "  metrics_df['train_last_touch_average_precision'], \n",
    "  axes[0], \"Mean average precision\"\n",
    ")\n",
    "axes[0].set_title('on train set')\n",
    "plot_metric_given_hashspace(\n",
    "  metrics_df['hash_spaces'],\n",
    "  metrics_df['test_core_attribution_average_precision'],\n",
    "  metrics_df['test_last_touch_average_precision'],\n",
    "  axes[1], \"Mean average precision\"\n",
    ")\n",
    "axes[1].set_title('on test set')\n",
    "\n",
    "fig.tight_layout()"
   ]
  },
  {
   "cell_type": "code",
   "execution_count": 41,
   "metadata": {
    "execution": {
     "iopub.execute_input": "2020-11-30T07:39:45.911640Z",
     "iopub.status.busy": "2020-11-30T07:39:45.908859Z",
     "iopub.status.idle": "2020-11-30T07:39:46.105916Z",
     "shell.execute_reply": "2020-11-30T07:39:46.106223Z"
    }
   },
   "outputs": [],
   "source": [
    "# Saving figures for paper\n",
    "fig, ax = plt.subplots(1, 1, figsize=(5, 3))\n",
    "plot_metric_given_hashspace(\n",
    "  metrics_df['hash_spaces'],\n",
    "  metrics_df['train_core_attribution_average_precision'],\n",
    "  metrics_df['train_last_touch_average_precision'], \n",
    "  ax, \"Mean average precision\"\n",
    ")\n",
    "fig.subplots_adjust(bottom=0.15, left=0.2, top=0.95, right=0.95)\n",
    "plt.savefig('average_precision_given_features_space_on_train_set.pdf')\n",
    "plt.close(fig)\n",
    "\n",
    "fig, ax = plt.subplots(1, 1, figsize=(5, 3))\n",
    "plot_metric_given_hashspace(\n",
    "  metrics_df['hash_spaces'],\n",
    "  metrics_df['test_core_attribution_average_precision'],\n",
    "  metrics_df['test_last_touch_average_precision'],\n",
    "  ax, \"Mean average precision\"\n",
    ")\n",
    "fig.subplots_adjust(bottom=0.15, left=0.2, top=0.95, right=0.95)\n",
    "plt.savefig('average_precision_given_features_space_on_test_set.pdf')\n",
    "plt.close(fig)"
   ]
  }
 ],
 "metadata": {
  "colab": {
   "collapsed_sections": [
    "LMK0QSGXgi2u",
    "sGjC6hNOjl7x"
   ],
   "name": "Core attribution - Criteo dataset.ipynb",
   "provenance": [],
   "toc_visible": true
  },
  "kernelspec": {
   "display_name": "MTC",
   "language": "python",
   "name": "python3"
  },
  "language_info": {
   "codemirror_mode": {
    "name": "ipython",
    "version": 3
   },
   "file_extension": ".py",
   "mimetype": "text/x-python",
   "name": "python",
   "nbconvert_exporter": "python",
   "pygments_lexer": "ipython3",
   "version": "3.6.8"
  }
 },
 "nbformat": 4,
 "nbformat_minor": 4
}
